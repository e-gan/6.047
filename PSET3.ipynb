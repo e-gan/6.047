{
  "nbformat": 4,
  "nbformat_minor": 0,
  "metadata": {
    "colab": {
      "name": "PSET3.ipynb",
      "provenance": [],
      "collapsed_sections": [
        "bXRLd25OKuCf",
        "TBFZarclPt4o",
        "4AjSrL5TJw-G",
        "2cBd3xkd0eg2",
        "rHEJSustkDI7"
      ]
    },
    "kernelspec": {
      "name": "python3",
      "display_name": "Python 3"
    }
  },
  "cells": [
    {
      "cell_type": "markdown",
      "metadata": {
        "id": "bXRLd25OKuCf"
      },
      "source": [
        "# **6.047 | 6.878 | HST.507**\n",
        "\n",
        "#**Fall 2020 Problem Set 3: Motifs and RNA Structures**\n",
        "\n",
        "Due: Monday, October 19 at 11:59PM (submit copy of notebook to Stellar)"
      ]
    },
    {
      "cell_type": "markdown",
      "metadata": {
        "id": "TBFZarclPt4o"
      },
      "source": [
        "#Load libraries\n"
      ]
    },
    {
      "cell_type": "code",
      "metadata": {
        "id": "IMjjMM_QPrUz",
        "colab": {
          "base_uri": "https://localhost:8080/"
        },
        "outputId": "2115f50f-a401-4a1a-f6a8-2ca440bcf34c"
      },
      "source": [
        "!pip install logomaker\n",
        "from google.colab import files\n",
        "from IPython.display import Image, display\n",
        "import logomaker, math, random, string, sys\n",
        "import matplotlib.pyplot as plt\n",
        "import numpy as np\n",
        "import pandas as pd"
      ],
      "execution_count": 2,
      "outputs": [
        {
          "output_type": "stream",
          "name": "stdout",
          "text": [
            "Collecting logomaker\n",
            "  Downloading logomaker-0.8-py2.py3-none-any.whl (11.8 MB)\n",
            "\u001b[K     |████████████████████████████████| 11.8 MB 121 kB/s \n",
            "\u001b[?25hRequirement already satisfied: matplotlib in /usr/local/lib/python3.7/dist-packages (from logomaker) (3.2.2)\n",
            "Requirement already satisfied: pandas in /usr/local/lib/python3.7/dist-packages (from logomaker) (1.1.5)\n",
            "Requirement already satisfied: numpy in /usr/local/lib/python3.7/dist-packages (from logomaker) (1.19.5)\n",
            "Requirement already satisfied: kiwisolver>=1.0.1 in /usr/local/lib/python3.7/dist-packages (from matplotlib->logomaker) (1.3.2)\n",
            "Requirement already satisfied: python-dateutil>=2.1 in /usr/local/lib/python3.7/dist-packages (from matplotlib->logomaker) (2.8.2)\n",
            "Requirement already satisfied: cycler>=0.10 in /usr/local/lib/python3.7/dist-packages (from matplotlib->logomaker) (0.10.0)\n",
            "Requirement already satisfied: pyparsing!=2.0.4,!=2.1.2,!=2.1.6,>=2.0.1 in /usr/local/lib/python3.7/dist-packages (from matplotlib->logomaker) (2.4.7)\n",
            "Requirement already satisfied: six in /usr/local/lib/python3.7/dist-packages (from cycler>=0.10->matplotlib->logomaker) (1.15.0)\n",
            "Requirement already satisfied: pytz>=2017.2 in /usr/local/lib/python3.7/dist-packages (from pandas->logomaker) (2018.9)\n",
            "Installing collected packages: logomaker\n",
            "Successfully installed logomaker-0.8\n"
          ]
        }
      ]
    },
    {
      "cell_type": "markdown",
      "metadata": {
        "id": "4AjSrL5TJw-G"
      },
      "source": [
        "# Gibbs sampling for motif discovery\n",
        "\n",
        "In this problem, you will implement a Gibbs sampler to discover sequence motifs."
      ]
    },
    {
      "cell_type": "markdown",
      "metadata": {
        "id": "gk-8ol2DJ8R4"
      },
      "source": [
        "A) Recall the Gibbs sampling algorithm for this problem: Initialize the motif position in each sequence. Until convergence: re-estimate the position weight matrix (PWM) from all the motifs except one, score every position in the excluded sequence, and sample a $k$-mer from the excluded sequence with probability proportional to the score.\n",
        "\n",
        "We have intentionally not specified many of the implementation details. Describe and justify the design decisions you made in your implementation. For example, how do you choose the sequence to exclude when recomputing the position weight matrix?"
      ]
    },
    {
      "cell_type": "code",
      "metadata": {
        "id": "NK1siknnM-tc"
      },
      "source": [
        "alphabet = ['A', 'C', 'G', 'T']\n",
        "\n",
        "### GibbsSampler:\n",
        "### INPUTS:\tS - list of sequences\n",
        "###\t\t    L - length of motif\n",
        "###\tOUTPUT:\tPWM - 4 x L list with frequencies of each base at each position\n",
        "###               Order of bases should be consistent with alphabet variable\n",
        "def GibbsSampler(S, L):\n",
        "    PWM = [[0 for _ in range(L)] for _ in range(len(alphabet))]\n",
        "    Z=[np.random.choice(len(S[_])-L) for _ in range(len(S))]\n",
        "    X=np.random.choice(len(S))\n",
        "    # bkg=[0 for _ in range(len(alphabet))]\n",
        "    bkg_p=0.25**L\n",
        "    stop=False\n",
        "    stopper=0\n",
        "    step=0\n",
        "\n",
        "    while not stop:\n",
        "      step+=1\n",
        "      old_Z=Z[X]\n",
        "      pseudocount=1/(len(S)-1+len(alphabet))\n",
        "      PWM = [[pseudocount for _ in range(L)] for _ in range(len(alphabet))]\n",
        "      # bkg=[0 for _ in range(len(alphabet))]\n",
        "      motif_p=1\n",
        "      # bkg_p=1\n",
        "\n",
        "      #update PWM\n",
        "      # num=0\n",
        "      for i in range(len(S)):\n",
        "        if i==X:\n",
        "          continue\n",
        "\n",
        "        start=Z[i]\n",
        "\n",
        "        for index in range(L):\n",
        "          PWM[alphabet.index(S[i][start+index])][index]+=1/(len(S)-1+len(alphabet))\n",
        "          # else:\n",
        "          #   bkg[alphabet.index(S[i][index])]+=1\n",
        "          #   num+=1\n",
        "\n",
        "\n",
        "      #find and set pseudocounts for PWM, calculate probabilities of PWM and bkg\n",
        "      # for x in range(len(PWM)):\n",
        "      #   for i in range(len(PWM[x])):\n",
        "      #     PWM[x][i]+=4\n",
        "      #     PWM[x][i]/=(len(S)-1)+len(alphabet)*4\n",
        "        # bkg[x]/=num\n",
        "\n",
        "      #recalculate starting positions for sequence X\n",
        "      Z_x=[]\n",
        "      for i in range(len(S[X])-L):\n",
        "        for index in range(L):\n",
        "          motif_p*=PWM[alphabet.index(S[X][i+index])][index]\n",
        "          # bkg_p*=bkg[alphabet.index(S[X][i+index])]\n",
        "        Z_x.append(motif_p/bkg_p)\n",
        "        motif_p=1\n",
        "        # bkg_p=1\n",
        "      \n",
        "      #normalize probabilities of Z_x\n",
        "      s=0\n",
        "      for i in Z_x:\n",
        "        s+=i\n",
        "      Z_x=[i/s for i in Z_x]\n",
        "      \n",
        "      #set new starting position for sequence X\n",
        "      Z[X]=np.random.choice(range(len(S[X])-L),p=Z_x)\n",
        "\n",
        "      if old_Z==Z[X]:\n",
        "        stopper+=1\n",
        "      if stopper>=(L//3):\n",
        "        # print(step)\n",
        "        stop=True\n",
        "\n",
        "      #pick a new sequence X\n",
        "      old_X=X\n",
        "      while X==old_X:\n",
        "        X=np.random.choice(len(S))\n",
        "    \n",
        "    for x in range(len(PWM)):\n",
        "      for i in range(len(PWM[x])):\n",
        "        motif_p=PWM[x][i]\n",
        "        PWM[x][i]=math.log((motif_p/(1-motif_p))/(0.25/0.75))\n",
        "    return PWM\n",
        "\n",
        "\n",
        "\n",
        "###########################\n",
        "# NO NEED TO MODIFY BELOW #\n",
        "###########################\n",
        "\n",
        "def get_motif_seq(PWM):\n",
        "    motif_seq = \"\"\n",
        "    for i in range(len(PWM[0])):\n",
        "        comp = [row[i] for row in PWM]\n",
        "        ind = max(range(len(comp)), key = comp.__getitem__)\n",
        "        motif_seq += alphabet[ind]\n",
        "    return motif_seq\n",
        "\n",
        "def print_PWM(PWM, L):\n",
        "    PWM_comp = []\n",
        "    PWM_comp.append(\"||\" + \"|\".join([str(i) for i in range(1, L + 1)]) + \"|\")\n",
        "    PWM_comp.append(\"|-\" * (L + 1) + \"|\")\n",
        "    for i in range(4):\n",
        "        PWM_comp.append(\"|\" + alphabet[i] + \"|\" + \"|\".join([str(round(val, 2)) for val in PWM[i]]) + \"|\")\n",
        "    print(\"\\n\".join(PWM_comp) + \"\\n\")\n",
        "\n",
        "def print_logo(PWM):\n",
        "    PWM = np.array(PWM).T\n",
        "    PWM = pd.DataFrame(PWM, columns = alphabet)\n",
        "    logomaker.Logo(PWM, fade_below = 0.8)\n",
        "\n",
        "def run_GibbsSampler(S, L, n):\n",
        "    motif_seqs, motif_PWM = {}, {}\n",
        "    for i in range(n):\n",
        "        PWM = GibbsSampler(S, L)\n",
        "        motif_seq = get_motif_seq(PWM)\n",
        "        motif_seqs.setdefault(motif_seq, 0)\n",
        "        motif_seqs[motif_seq] += 1\n",
        "        motif_PWM[motif_seq] = PWM\n",
        "    best_motif = max(motif_seqs.keys(), key = lambda x: motif_seqs[x])\n",
        "    print(\"Most consistent motif: \\n\" + best_motif + \"\\n\")\n",
        "    print(\"PWM (paste into text block):\")\n",
        "    print_PWM(motif_PWM[best_motif], L)\n",
        "    print(\"Sequence logo:\")\n",
        "    print_logo(motif_PWM[best_motif])"
      ],
      "execution_count": 13,
      "outputs": []
    },
    {
      "cell_type": "markdown",
      "metadata": {
        "id": "k6biQHVRLNjp"
      },
      "source": [
        "Start by initializing a position weight matrix for the motif and a background matrix. Set initial starting positions for each sequence in $S$ at random.\n",
        "\n",
        "Then repeatedly remove some sequence $X_i$ at random from $S$, calculate the PWM from remaining sequences, then choose a new starting position for $X_i$, sampling from the distribution $Z_{ij}$, where $Z_{ij}$ is the probability of sequence $X_i$ having its motif starting position at $j$. $Z_{ij}$ is calculated from the new PWM. We then select a new sequence to remove at random, ensuring that it is a different sequence from its predecessor. Once we reach a certain number of sequences which do not change motif starting positions after recalculating, we terminate the loop and return the PWM at that time."
      ]
    },
    {
      "cell_type": "markdown",
      "metadata": {
        "id": "xEATbR2pO8CW"
      },
      "source": [
        "You will need to download the following [files](https://www.dropbox.com/sh/ymt4j1cjvn1xdrj/AAA3tKLQdkDPFoAYOA9kdmwUa?dl=0) and upload them to colab using the following code block."
      ]
    },
    {
      "cell_type": "code",
      "metadata": {
        "id": "AUNxvp7qO_sA",
        "colab": {
          "resources": {
            "http://localhost:8080/nbextensions/google.colab/files.js": {
              "data": "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",
              "ok": true,
              "headers": [
                [
                  "content-type",
                  "application/javascript"
                ]
              ],
              "status": 200,
              "status_text": ""
            }
          },
          "base_uri": "https://localhost:8080/",
          "height": 174
        },
        "outputId": "dcf36f25-74d7-414e-f180-26577c5d7c9c"
      },
      "source": [
        "gibbs_motifs = files.upload()\n",
        "for k, v in gibbs_motifs.items():\n",
        "    gibbs_motifs[k] = v.decode(\"utf-8-sig\").split()"
      ],
      "execution_count": 4,
      "outputs": [
        {
          "output_type": "display_data",
          "data": {
            "text/html": [
              "\n",
              "     <input type=\"file\" id=\"files-40c79984-2cb0-4705-93a7-5bc614ec3b77\" name=\"files[]\" multiple disabled\n",
              "        style=\"border:none\" />\n",
              "     <output id=\"result-40c79984-2cb0-4705-93a7-5bc614ec3b77\">\n",
              "      Upload widget is only available when the cell has been executed in the\n",
              "      current browser session. Please rerun this cell to enable.\n",
              "      </output>\n",
              "      <script src=\"/nbextensions/google.colab/files.js\"></script> "
            ],
            "text/plain": [
              "<IPython.core.display.HTML object>"
            ]
          },
          "metadata": {}
        },
        {
          "output_type": "stream",
          "name": "stdout",
          "text": [
            "Saving data2.txt to data2.txt\n",
            "Saving data3.txt to data3.txt\n",
            "Saving data1.txt to data1.txt\n",
            "Saving data4.txt to data4.txt\n"
          ]
        }
      ]
    },
    {
      "cell_type": "markdown",
      "metadata": {
        "id": "0uryxZblPCJd"
      },
      "source": [
        "B) We have provided four test cases. `data1` is a synthetic data set where\n",
        "the motif is identical across the sequences. `data2` is a synthetic data set\n",
        "with a degenerate motif. `data3` and `data4` are yeast transcription factor\n",
        "binding sites of ACE2 and MBP1, respectively.\n",
        "\n",
        "Run your Gibbs sampler on the test data to discover motifs of length 10. You will need to repeat this procedure several times on each data set due to the stochastic nature of Gibbs sampling.\n",
        "\n",
        "Report the most consistently found PWM for each sequence."
      ]
    },
    {
      "cell_type": "code",
      "metadata": {
        "id": "fsCNvBpJRCPL",
        "colab": {
          "base_uri": "https://localhost:8080/",
          "height": 392
        },
        "outputId": "4b23b06f-a517-48b0-e8a4-5eaddfff5c60"
      },
      "source": [
        "run_GibbsSampler(gibbs_motifs[\"data4.txt\"], 10, 100)"
      ],
      "execution_count": 25,
      "outputs": [
        {
          "output_type": "stream",
          "name": "stdout",
          "text": [
            "Most consistent motif: \n",
            "AAAAAAAAAA\n",
            "\n",
            "PWM (paste into text block):\n",
            "||1|2|3|4|5|6|7|8|9|10|\n",
            "|-|-|-|-|-|-|-|-|-|-|-|\n",
            "|A|1.84|1.62|1.48|1.48|1.34|1.69|1.55|1.92|2.0|1.77|\n",
            "|C|-1.08|-0.91|-0.75|-0.91|-2.96|-1.52|-2.25|-1.08|-1.83|-1.08|\n",
            "|G|-0.91|-1.83|-1.52|-0.75|-0.07|-1.08|-0.91|-2.25|-1.28|-1.83|\n",
            "|T|-1.08|-0.27|-0.27|-0.62|-0.37|-0.37|-0.07|-0.49|-0.62|-0.37|\n",
            "\n",
            "Sequence logo:\n"
          ]
        },
        {
          "output_type": "display_data",
          "data": {
            "image/png": "[encoded data removed]",
            "text/plain": [
              "<Figure size 720x180 with 1 Axes>"
            ]
          },
          "metadata": {
            "needs_background": "light"
          }
        }
      ]
    },
    {
      "cell_type": "markdown",
      "metadata": {
        "id": "MfcNx1guPPd1"
      },
      "source": [
        "`data1` PWM:\n",
        "\n",
        "||1|2|3|4|5|6|7|8|9|10|\n",
        "|-|-|-|-|-|-|-|-|-|-|-|\n",
        "|A|1.91|-0.61|-0.61|-1.39|-1.39|2.3|1.91|-0.61|-1.39|-0.61|\n",
        "|C|-1.39|-1.39|-1.39|1.91|-1.39|-1.39|-0.61|-1.39|-1.39|1.91|\n",
        "|G|-0.61|-1.39|-1.39|-0.61|1.91|-1.39|-1.39|-1.39|-1.39|-1.39|\n",
        "|T|-1.39|1.91|1.91|-1.39|-0.61|-1.39|-1.39|1.91|2.3|-1.39|\n",
        "\n",
        "`data2` PWM:\n",
        "\n",
        "||1|2|3|4|5|6|7|8|9|10|\n",
        "|-|-|-|-|-|-|-|-|-|-|-|\n",
        "|A|-0.61|-0.61|-0.11|0.29|-1.39|-1.39|-0.11|1.91|-0.61|-1.39|\n",
        "|C|-1.39|1.57|-1.39|-1.39|-0.61|2.3|-1.39|-1.39|1.91|-1.39|\n",
        "|G|-1.39|-1.39|-1.39|1.25|-1.39|-1.39|-1.39|-1.39|-1.39|-1.39|\n",
        "|T|1.91|-0.61|1.57|-1.39|1.91|-1.39|1.57|-0.61|-1.39|2.3|\n",
        "\n",
        "`data3` PWM:\n",
        "\n",
        "||1|2|3|4|5|6|7|8|9|10|\n",
        "|-|-|-|-|-|-|-|-|-|-|-|\n",
        "|A|1.96|0.72|1.96|2.55|0.83|1.71|1.71|2.23|1.15|1.26|\n",
        "|C|-1.33|-1.33|-0.76|-2.48|-1.76|-1.33|-0.76|-2.48|-0.76|-1.33|\n",
        "|G|-0.76|0.49|-2.48|-1.33|-1.01|-0.19|-0.76|-0.76|-2.48|0.11|\n",
        "|T|-1.33|-0.54|-0.76|-1.33|0.72|-1.76|-1.33|-1.33|0.36|-1.01|\n",
        "\n",
        "`data4` PWM:\n",
        "\n",
        "||1|2|3|4|5|6|7|8|9|10|\n",
        "|-|-|-|-|-|-|-|-|-|-|-|\n",
        "|A|1.84|1.62|1.48|1.48|1.34|1.69|1.55|1.92|2.0|1.77|\n",
        "|C|-1.08|-0.91|-0.75|-0.91|-2.96|-1.52|-2.25|-1.08|-1.83|-1.08|\n",
        "|G|-0.91|-1.83|-1.52|-0.75|-0.07|-1.08|-0.91|-2.25|-1.28|-1.83|\n",
        "|T|-1.08|-0.27|-0.27|-0.62|-0.37|-0.37|-0.07|-0.49|-0.62|-0.37|\n"
      ]
    },
    {
      "cell_type": "markdown",
      "metadata": {
        "id": "2cBd3xkd0eg2"
      },
      "source": [
        "# Evolutionary signatures of motifs\n",
        "\n",
        "In this problem, you will search for enriched (over-represented) $k$-mers in regions conserved across the yeast clade *Saccharomyces*."
      ]
    },
    {
      "cell_type": "markdown",
      "metadata": {
        "id": "TFtg1JpN1u1b"
      },
      "source": [
        "You will need to download the following [files](https://www.dropbox.com/sh/tx0p18sx4daw50t/AAC5_T1bRboHw_Di7sjxgpuya?dl=0) and upload them to colab using the following code block."
      ]
    },
    {
      "cell_type": "code",
      "metadata": {
        "id": "qlyDn1Q7-oGo",
        "colab": {
          "resources": {
            "http://localhost:8080/nbextensions/google.colab/files.js": {
              "data": "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",
              "ok": true,
              "headers": [
                [
                  "content-type",
                  "application/javascript"
                ]
              ],
              "status": 200,
              "status_text": ""
            }
          },
          "base_uri": "https://localhost:8080/",
          "height": 106
        },
        "outputId": "a28798c3-3217-4b98-8d9b-cbd88a15a3b4"
      },
      "source": [
        "intergenic = files.upload()\n",
        "for k, v in intergenic.items():\n",
        "    intergenic[k] = v.decode(\"utf-8-sig\")"
      ],
      "execution_count": null,
      "outputs": [
        {
          "output_type": "display_data",
          "data": {
            "text/html": [
              "\n",
              "     <input type=\"file\" id=\"files-f89f78d7-d865-407b-9142-8e4b477d0b5c\" name=\"files[]\" multiple disabled\n",
              "        style=\"border:none\" />\n",
              "     <output id=\"result-f89f78d7-d865-407b-9142-8e4b477d0b5c\">\n",
              "      Upload widget is only available when the cell has been executed in the\n",
              "      current browser session. Please rerun this cell to enable.\n",
              "      </output>\n",
              "      <script src=\"/nbextensions/google.colab/files.js\"></script> "
            ],
            "text/plain": [
              "<IPython.core.display.HTML object>"
            ]
          },
          "metadata": {}
        },
        {
          "output_type": "stream",
          "name": "stdout",
          "text": [
            "Saving allintercons to allintercons\n",
            "Saving allinter to allinter\n"
          ]
        }
      ]
    },
    {
      "cell_type": "markdown",
      "metadata": {
        "id": "4B5w7iPPhwV6"
      },
      "source": [
        "A) We have provided the sequence of all intergenic regions in S. *cerevisiae* in\n",
        "`allinter`. We have also provided an annotation of conservation in `allintercons`. Each position marked with * (everything else is considered nonconserved) corresponds to a conserved nucleotide. For simplicity, we will look for motifs which are non-degenerate, exact matches. In other words, a conserved motif consists entirely of conserved nucleotides.\n",
        "\n",
        "Compute the frequency and conservation of all 6-mers. Report the 50 most frequently occurring and 50 most conserved motifs (those with the highest proportion of conserved instances) as python lists."
      ]
    },
    {
      "cell_type": "code",
      "metadata": {
        "id": "vWWmPu1uiZFl",
        "colab": {
          "base_uri": "https://localhost:8080/"
        },
        "outputId": "0662dc7e-bc3a-4a84-aac7-82bb751502c8"
      },
      "source": [
        "# Intergenic regions: intergenic[\"allinter\"]\n",
        "# Annotation of conservation: intergenic[\"allintercons\"]\n",
        "\n",
        "bases=set(['A','T','C','G'])\n",
        "lookup={}\n",
        "for i in range(len(intergenic[\"allinter\"])-6+1):\n",
        "    key = intergenic[\"allinter\"][i:i + 6]\n",
        "    cons = set(intergenic[\"allintercons\"][i:i + 6])\n",
        "    if len(set(key).difference(bases)):\n",
        "      continue\n",
        "    if key in lookup:\n",
        "      lookup[key][0]+=1\n",
        "    else:\n",
        "      lookup[key]=[1,0]\n",
        "    if not cons.difference(set('*')):\n",
        "      lookup[key][1]+=1\n",
        "kmers=list(lookup.keys())\n",
        "freq=sorted(kmers, reverse=True, key=lambda k: lookup[k][0])[:50]\n",
        "conserv=sorted(kmers, reverse=True, key=lambda x: lookup[x][1]/lookup[x][0])[:50]\n",
        "\n",
        "print(freq)\n",
        "print(conserv)"
      ],
      "execution_count": null,
      "outputs": [
        {
          "output_type": "stream",
          "name": "stdout",
          "text": [
            "['AAAAAA', 'TTTTTT', 'TATATA', 'ATATAT', 'AAAAAT', 'ATTTTT', 'GAAAAA', 'TTTTTC', 'AAAATA', 'TAAAAA', 'AATAAA', 'ATAAAA', 'TATTTT', 'AAGAAA', 'AAATAA', 'CTTTTT', 'AGAAAA', 'TTTCTT', 'TTATTT', 'AAAAAG', 'TTTTTA', 'TTTTAT', 'TTTATT', 'TTTTCT', 'AAAGAA', 'ATAATA', 'TTCTTT', 'ATATAA', 'TATTAT', 'AATATA', 'TCTTTT', 'AAATAT', 'ATATTT', 'AAAAGA', 'TTATAT', 'AATTTT', 'TATATT', 'AAAATT', 'AATAAT', 'AATATT', 'TAAATA', 'ATTATT', 'AAATTT', 'TATAAA', 'TAATAA', 'ATATTA', 'TATTTA', 'TAATAT', 'TTTATA', 'ATAAAT']\n",
            "['CGGGTA', 'TACCCG', 'CCGGGT', 'ACCCGG', 'CACGTG', 'ACGCGT', 'GGGTAA', 'TTACCC', 'GCGGCT', 'CGCGTC', 'CGGCTA', 'CTCATC', 'GCGATG', 'CACCCG', 'GATGAG', 'GCGGGT', 'CGATGA', 'TTCGCG', 'GAGTCA', 'GCGCGA', 'GGGTGG', 'TCATCG', 'GGCGGC', 'ACCCGC', 'GCCCCT', 'TGGGTG', 'CAGGGG', 'GCCGCC', 'CCGATA', 'TCGCGT', 'GTCGAC', 'GTCGCG', 'CGTCGC', 'CATCGC', 'GACGCG', 'TAGCCG', 'ACGCGA', 'CCCGAG', 'CTCGAG', 'CCCCTG', 'GGTTCG', 'CGCGTT', 'GGAGTC', 'AGCCGC', 'CCGAGC', 'CGGCGG', 'TGACTC', 'AACGCG', 'CGCGAG', 'GTACGG']\n"
          ]
        }
      ]
    },
    {
      "cell_type": "markdown",
      "metadata": {
        "id": "n78DugyXia3E"
      },
      "source": [
        "Most frequently occurring: ['AAAAAA', 'TTTTTT', 'TATATA', 'ATATAT', 'AAAAAT', 'ATTTTT', 'GAAAAA', 'TTTTTC', 'AAAATA', 'TAAAAA', 'AATAAA', 'ATAAAA', 'TATTTT', 'AAGAAA', 'AAATAA', 'CTTTTT', 'AGAAAA', 'TTTCTT', 'TTATTT', 'AAAAAG', 'TTTTTA', 'TTTTAT', 'TTTATT', 'TTTTCT', 'AAAGAA', 'ATAATA', 'TTCTTT', 'ATATAA', 'TATTAT', 'AATATA', 'TCTTTT', 'AAATAT', 'ATATTT', 'AAAAGA', 'TTATAT', 'AATTTT', 'TATATT', 'AAAATT', 'AATAAT', 'AATATT', 'TAAATA', 'ATTATT', 'AAATTT', 'TATAAA', 'TAATAA', 'ATATTA', 'TATTTA', 'TAATAT', 'TTTATA', 'ATAAAT']\n",
        "\n",
        "\n",
        "Most conserved: ['CGGGTA', 'TACCCG', 'CCGGGT', 'ACCCGG', 'CACGTG', 'ACGCGT', 'GGGTAA', 'TTACCC', 'GCGGCT', 'CGCGTC', 'CGGCTA', 'CTCATC', 'GCGATG', 'CACCCG', 'GATGAG', 'GCGGGT', 'CGATGA', 'TTCGCG', 'GAGTCA', 'GCGCGA', 'GGGTGG', 'TCATCG', 'GGCGGC', 'ACCCGC', 'GCCCCT', 'TGGGTG', 'CAGGGG', 'GCCGCC', 'CCGATA', 'TCGCGT', 'GTCGAC', 'GTCGCG', 'CGTCGC', 'CATCGC', 'GACGCG', 'TAGCCG', 'ACGCGA', 'CCCGAG', 'CTCGAG', 'CCCCTG', 'GGTTCG', 'CGCGTT', 'GGAGTC', 'AGCCGC', 'CCGAGC', 'CGGCGG', 'TGACTC', 'AACGCG', 'CGCGAG', 'GTACGG']\n"
      ]
    },
    {
      "cell_type": "markdown",
      "metadata": {
        "id": "GMWrwpsejI2V"
      },
      "source": [
        "B) Compare frequently occurring motifs to highly conserved motifs. Are there biases in the sequence properties of either class? If so, where does this bias come from?\n",
        "\n",
        "Which of the two lists should we use to direct further inquiry into yeast transcription factor binding sites? Provide justification."
      ]
    },
    {
      "cell_type": "markdown",
      "metadata": {
        "id": "1iLABYY1jQ1G"
      },
      "source": [
        "The most frequent motifs are higher in AT-frequency while the most conserved motifs are higher in GC-frequency. The most frequent motifs are the poly-A and poly-T sequences, and are in general characterized by lower complexity than the most conserved motifs. This bias is due to the prevalence of simple repeating sequences in genomic sequences that are not correlated with a functional motif.\n",
        "\n",
        "We should investigate the most conserved list because TF binding sites have a high likelihood of being conserved in the genome since they serve an essential biological function. The dysfunction of TF binding sites likely confers an unfavorable phenotype, placing evolutionary pressure to conserve TF binding sites."
      ]
    },
    {
      "cell_type": "markdown",
      "metadata": {
        "id": "rHEJSustkDI7"
      },
      "source": [
        "# RNA secondary structure\n",
        "\n",
        "In this problem we will explore the output of the Nussinov algorithm on random\n",
        "RNA sequences."
      ]
    },
    {
      "cell_type": "markdown",
      "metadata": {
        "id": "-en-5jb3tH8m"
      },
      "source": [
        "A) Implement the Nussinov algorithm, scoring A-U, G-U, and C-G pairs as -1 and all other pairs as 0."
      ]
    },
    {
      "cell_type": "code",
      "metadata": {
        "id": "iuUtYnzhtNb2"
      },
      "source": [
        "\t\t\t\t #  A   U   C   G\n",
        "scoring_matrix = [[ 0, -1,  0,  0], # A\n",
        "\t\t\t\t  [-1,  0,  0, -1], # U\n",
        "\t\t\t\t  [ 0,  0,  0, -1], # C\n",
        "\t\t\t\t  [ 0, -1, -1,  0]] # G\n",
        "b_map = {'A': 0, 'U': 1, 'C': 2, 'G': 3}\n",
        "\n",
        "def nussinov(seq):\n",
        "\tE=[[None for i in range(len(seq))] for x in range(len(seq))]\n",
        "\tE_mid=None\n",
        "\tE_post=None\n",
        "\n",
        "\tfor i in range(len(seq)):\n",
        "\t\tE[i][i]=0\n",
        "\t\t\n",
        "\tfor i in range(len(seq)-2,-1,-1):\n",
        "\t\tfor x in range(i+1):\n",
        "\t\t\tif i-x+1>len(seq)-x-2:\n",
        "\t\t\t\tE_mid=0\n",
        "\t\t\telse:\n",
        "\t\t\t\tE_mid=E[i-x+1][len(seq)-x-2]\n",
        "\t\t\tif len(seq)-x>len(seq)-x-1:\n",
        "\t\t\t\tE_post=0\n",
        "\t\t\telse:\n",
        "\t\t\t\tE_post=E[len(seq)-x][len(seq)-x-1]\n",
        "\t\t\tE[i-x][len(seq)-x-1] = min(E[i-x+1][len(seq)-x-1], (scoring_matrix[b_map[seq[i-x]]][b_map[seq[len(seq)-x-1]]]+E_mid+E_post))\n",
        "\t\n",
        "\treturn E[0][len(seq)-1]"
      ],
      "execution_count": null,
      "outputs": []
    },
    {
      "cell_type": "markdown",
      "metadata": {
        "id": "qfn8T6ZT1FHH"
      },
      "source": [
        "B) Generate 1000 RNA sequences of length 100 where each base is drawn\n",
        "uniformly at random. What is the average score for these sequences?"
      ]
    },
    {
      "cell_type": "code",
      "metadata": {
        "id": "ddqbIJxn1I2y"
      },
      "source": [
        "def gen_seq(L):\n",
        "    bases = ['A', 'U', 'C', 'G']\n",
        "    return ''.join([random.choice(bases) for _ in range(L)])\n",
        "\n",
        "def nussinov_avg(L, n):\n",
        "    cum_score = 0\n",
        "    for _ in range(n):\n",
        "        cum_score += nussinov(gen_seq(L))\n",
        "    return cum_score / n"
      ],
      "execution_count": null,
      "outputs": []
    },
    {
      "cell_type": "code",
      "metadata": {
        "id": "kdfAwiqcB3ka",
        "colab": {
          "base_uri": "https://localhost:8080/"
        },
        "outputId": "0092042e-e459-49a8-bc89-56bb02b92da4"
      },
      "source": [
        "nussinov_avg(100, 1000)"
      ],
      "execution_count": null,
      "outputs": [
        {
          "output_type": "execute_result",
          "data": {
            "text/plain": [
              "-31.912"
            ]
          },
          "metadata": {},
          "execution_count": 23
        }
      ]
    },
    {
      "cell_type": "markdown",
      "metadata": {
        "id": "zKOH61mYBKPR"
      },
      "source": [
        "C) How does the score vary as a function of length? (You will need to repeat (B) for various lengths.)"
      ]
    },
    {
      "cell_type": "code",
      "metadata": {
        "id": "YqwXN4tfB9SO",
        "colab": {
          "base_uri": "https://localhost:8080/",
          "height": 296
        },
        "outputId": "a1c4707e-f61a-4c95-dd04-f54a155804c5"
      },
      "source": [
        "x=[50,100,200,500]\n",
        "y=[nussinov_avg(50, 1000),nussinov_avg(100, 1000),nussinov_avg(200, 1000),nussinov_avg(500, 1000)]\n",
        "\n",
        "plt.xlabel(\"Sequence Length (bp)\")\n",
        "plt.ylabel(\"Nussinov Score\")\n",
        "plt.plot(x, y)"
      ],
      "execution_count": null,
      "outputs": [
        {
          "output_type": "execute_result",
          "data": {
            "text/plain": [
              "[<matplotlib.lines.Line2D at 0x7f4bb0a0d050>]"
            ]
          },
          "metadata": {},
          "execution_count": 145
        },
        {
          "output_type": "display_data",
          "data": {
            "image/png": "[encoded data removed]",
            "text/plain": [
              "<Figure size 432x288 with 1 Axes>"
            ]
          },
          "metadata": {
            "needs_background": "light"
          }
        }
      ]
    },
    {
      "cell_type": "markdown",
      "metadata": {
        "id": "Dva6gzLbCJGi"
      },
      "source": [
        "The Nussinov score is proportional to length."
      ]
    },
    {
      "cell_type": "markdown",
      "metadata": {
        "id": "bqMwKZWtCXnK"
      },
      "source": [
        "D) How does the score vary as a function of GC content? Is this function symmetric around GC content equal to 0.5? Why or why not? (You will need to repeat (B) for different distributions from which you draw bases.)"
      ]
    },
    {
      "cell_type": "code",
      "metadata": {
        "id": "u2yykAVPDd9q"
      },
      "source": [
        "def gen_seq(L, freq):\n",
        "    bases = ['A', 'U', 'C', 'G']\n",
        "    freq2=1-freq\n",
        "    return ''.join([np.random.choice(bases, p=[freq2/2,freq2/2,freq/2,freq/2]) for _ in range(L)])\n",
        "\n",
        "def nussinov_avg(L, freq, n):\n",
        "    cum_score = 0\n",
        "    for _ in range(n):\n",
        "        cum_score += nussinov(gen_seq(L,freq))\n",
        "    return cum_score / n"
      ],
      "execution_count": null,
      "outputs": []
    },
    {
      "cell_type": "code",
      "metadata": {
        "id": "73JRPFI1DgXS",
        "colab": {
          "base_uri": "https://localhost:8080/",
          "height": 298
        },
        "outputId": "b4af6a51-42a7-40cb-c0fd-cf1f3fb852ae"
      },
      "source": [
        "x=[0.2,0.3,0.4,0.5,0.6,0.7,0.8]\n",
        "y=[nussinov_avg(100, 0.2,1000),nussinov_avg(100, 0.3,1000),nussinov_avg(100, 0.4,1000),nussinov_avg(100, 0.5, 1000),nussinov_avg(100, 0.6,1000),nussinov_avg(100, 0.7,1000),nussinov_avg(100, 0.8,1000)]\n",
        "\n",
        "plt.xlabel(\"GC Frequency\")\n",
        "plt.ylabel(\"Nussinov Score\")\n",
        "plt.plot(x, y)"
      ],
      "execution_count": null,
      "outputs": [
        {
          "output_type": "execute_result",
          "data": {
            "text/plain": [
              "[<matplotlib.lines.Line2D at 0x7f4bb05b6050>]"
            ]
          },
          "metadata": {},
          "execution_count": 152
        },
        {
          "output_type": "display_data",
          "data": {
            "image/png": "[encoded data removed]",
            "text/plain": [
              "<Figure size 432x288 with 1 Axes>"
            ]
          },
          "metadata": {
            "needs_background": "light"
          }
        }
      ]
    },
    {
      "cell_type": "markdown",
      "metadata": {
        "id": "CD6aWQNxDj_M"
      },
      "source": [
        "The function is approximately symmetric about a GC frequency of 0.5, since sampling more frequently from AT or GC instead of from all four bases results in higher likelihood of any two bases being able to pair. However, the difference between GC = 0.5 and GC = 0.8 is still quite small (<2)."
      ]
    },
    {
      "cell_type": "markdown",
      "metadata": {
        "id": "ABXYNvxUDoAl"
      },
      "source": [
        "E) Given an RNA transcript of interest, how should you interpret the score output by the Nussinov algorithm with respect to your observations about its dependence on length and sequence composition? Is there a better way to estimate the effect of these biases on the score?"
      ]
    },
    {
      "cell_type": "markdown",
      "metadata": {
        "id": "2Y_9XeiTDrPx"
      },
      "source": [
        "To compare RNA transcripts, we can normalize their scores by their lengths, since they are linearly correlated. Sequence composition does not produce a large difference, but we can account for the little difference it does impart by weighing the pairing of the nucleotides based on the strength of their pairing (e.g. G-C bonds are -2 instead of -1), so that the sequence composition is more accurate to the free energy of the structure."
      ]
    },
    {
      "cell_type": "markdown",
      "metadata": {
        "id": "SmhLP4Y-DzAa"
      },
      "source": [
        "# (6.878 only) Probabilistic model for transcription factor binding sites\n",
        "\n",
        "In this problem we will derive the probabilistic model underlying position weight matrices (PWMs) and use it to study CCCTC-binding factor (CTCF) binding sites. CTCF is a conserved zinc-finger protein which binds to thousands of locations in the human genome and acts as an insulator/repressor."
      ]
    },
    {
      "cell_type": "markdown",
      "metadata": {
        "id": "WBoqOFj7EVIG"
      },
      "source": [
        "A) Explain how to estimate the motif model $M = [m_{ij}]$ where $m_{ij} = P(position~i = nucleotide~j)$."
      ]
    },
    {
      "cell_type": "markdown",
      "metadata": {
        "id": "3mZxk7fgEkf1"
      },
      "source": [
        "**Answer here:**"
      ]
    },
    {
      "cell_type": "markdown",
      "metadata": {
        "id": "V9JXiLOREpSt"
      },
      "source": [
        "B) Describe and justify an algorithm to estimate the background model $B$. What assumptions does your model make? What are some of its weaknesses?"
      ]
    },
    {
      "cell_type": "markdown",
      "metadata": {
        "id": "O9LU8JdkFBkK"
      },
      "source": [
        "**Answer here:**"
      ]
    },
    {
      "cell_type": "markdown",
      "metadata": {
        "id": "Hfo9D9RLahLC"
      },
      "source": [
        "You will need to download the following [files](https://www.dropbox.com/sh/uqqqvlxe6udrc56/AACKMsRAFc6JxH8z0Qpg-YvGa?dl=0) and upload them (except `ctcf_motif.jpg`) to colab using the following code block."
      ]
    },
    {
      "cell_type": "code",
      "metadata": {
        "id": "AX1IHDj8fs0t"
      },
      "source": [
        "ctcf_data = files.upload()\n",
        "for k, v in ctcf_data.items():\n",
        "    ### YOUR CODE HERE ###"
      ],
      "execution_count": null,
      "outputs": []
    },
    {
      "cell_type": "markdown",
      "metadata": {
        "id": "pCwSRHkVFCSm"
      },
      "source": [
        "C) Recall that a PWM gives the log odds of observing a particular nucleotide at a particular position in the motif model against the background distribution.\n",
        "\n",
        "Implement your algorithm from (A) to estimate $M$ from `ctcf_binding_site_sequences.txt` and your algorithm from (B) to estimate $B$ from `chr11_region.fa`. Then, estimate a PWM for CTCF using $M$ and $B$. Report all of the distributions."
      ]
    },
    {
      "cell_type": "code",
      "metadata": {
        "id": "6rijiunqRZ_n"
      },
      "source": [
        "def estimate_model(\"\"\" YOUR PARAMETERS HERE \"\"\"):\n",
        "\n",
        "    ### YOUR CODE HERE ###\n",
        "\n",
        "def estimate_background(\"\"\" YOUR PARAMETERS HERE \"\"\"):\n",
        "\n",
        "    ### YOUR CODE HERE ###\n",
        "\n",
        "def estimate_pwm(\"\"\" YOUR PARAMETERS HERE \"\"\"):\n",
        "\n",
        "    ### YOUR CODE HERE ###"
      ],
      "execution_count": null,
      "outputs": []
    },
    {
      "cell_type": "markdown",
      "metadata": {
        "id": "zMvZipl6RK8x"
      },
      "source": [
        "**Answer here:**\n",
        "\n",
        "$M$:\n",
        "\n",
        "$B$:\n",
        "\n",
        "PWM:"
      ]
    },
    {
      "cell_type": "markdown",
      "metadata": {
        "id": "kdVVTQbGSZ4x"
      },
      "source": [
        "D) An alternative visual representation of transcription factor binding sites is a sequence logo which gives the information content at every position (intuitively, how important each position is for protein binding affinity).\n",
        "\n",
        "Use the `logomaker` (already imported) library to generate a sequence logo for `ctcf_binding_site_sequences.txt`. You may find these `logomaker` [tutorials](https://github.com/jbkinney/logomaker/tree/master/logomaker/tutorials) to be useful."
      ]
    },
    {
      "cell_type": "code",
      "metadata": {
        "id": "tErt9hPwfprZ"
      },
      "source": [
        "### YOUR CODE HERE ###"
      ],
      "execution_count": null,
      "outputs": []
    },
    {
      "cell_type": "markdown",
      "metadata": {
        "id": "73E76snjqWod"
      },
      "source": [
        "E) Compare your sequence logo to the published logo `ctcf_motif.jpg`. What could account for any differences?"
      ]
    },
    {
      "cell_type": "markdown",
      "metadata": {
        "id": "kYc9HHhyqdCl"
      },
      "source": [
        "**Answer here:**"
      ]
    },
    {
      "cell_type": "markdown",
      "metadata": {
        "id": "NHj72Y15qf1K"
      },
      "source": [
        "F) Discuss the limitations of PWMs as a representation of transcription factor binding sites. What assumptions are made? Do they hold in general?"
      ]
    },
    {
      "cell_type": "markdown",
      "metadata": {
        "id": "_8lPKe1Lqhpf"
      },
      "source": [
        "**Answer here:**"
      ]
    },
    {
      "cell_type": "markdown",
      "metadata": {
        "id": "YXY4TCvsqk6A"
      },
      "source": [
        "G) Because the entries of a PWM are log odds scores, we can score a $k$-mer by simply adding up the appropriate entries of the PWM.\n",
        "\n",
        "Convert the published Position Frequency Matrix (PFM) `ctcf_pfm.txt` to a PWM and use it to scan for CTCF binding sites in `chr11_region.fa`.\n",
        "\n",
        "This region flanks the gene insulin-like growth factor 2 (*IGF2*). Plot the scores at every position for each strand. You may find the `matplotlib.pyplot` package (already imported) to be useful."
      ]
    },
    {
      "cell_type": "code",
      "metadata": {
        "id": "9UTZKbCesMFU"
      },
      "source": [
        "### YOUR CODE HERE ###"
      ],
      "execution_count": null,
      "outputs": []
    },
    {
      "cell_type": "markdown",
      "metadata": {
        "id": "MTqAaxk3szRW"
      },
      "source": [
        "H) Recall that short $k$-mers frequently occur by chance throughout the genome. Estimate the probability distribution of scores by randomly sampling 1 million  20-mers from chromosome 11 and scoring them using your PWM from (G). You may want to use the [full sequence](ftp://hgdownload.cse.ucsc.edu/goldenPath/hg19/chromosomes/chr11.fa.gz) of chromosome 11 rather than the region we have provided. Plot a histogram of this distribution. Again, you may find the `matplotlib.pyplot` package (already imported) to be useful.\n",
        "\n",
        "A simple way to use this null distribution to filter out hits that occurred by chance is to only keep hits with $P(score > threshold) < 10^{-5}$. Based on the distribution you estimated, what is the threshold?\n",
        "\n",
        "Report the location, score, and sequence (be sure to\n",
        "account for strand orientation) of each 20-mer which meets the threshold in a table."
      ]
    },
    {
      "cell_type": "code",
      "metadata": {
        "id": "1lLYgyivtyqK"
      },
      "source": [
        "### YOUR CODE HERE ###"
      ],
      "execution_count": null,
      "outputs": []
    },
    {
      "cell_type": "markdown",
      "metadata": {
        "id": "uVULLxa4tz_I"
      },
      "source": [
        "**Answer here:**\n",
        "\n",
        "|Start|End|Score|Sequence|\n",
        "|-|-|-|-|"
      ]
    },
    {
      "cell_type": "markdown",
      "metadata": {
        "id": "QwfvBBNau5a9"
      },
      "source": [
        "I) Discuss some limitations of filtering PWM matches in this manner. Does the method by which we sample 20-mers matter? How will the sequence properties of randomly chosen genomic regions affect the answer? Can we choose regions in a more principled way to account for sequence properties? Is it possible to estimate the probability of a PWM match occurring by chance without sampling?"
      ]
    },
    {
      "cell_type": "markdown",
      "metadata": {
        "id": "UDoS9HHTvAdn"
      },
      "source": [
        "**Answer here:**"
      ]
    }
  ]
}