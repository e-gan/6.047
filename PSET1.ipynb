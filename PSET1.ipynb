{
  "nbformat": 4,
  "nbformat_minor": 0,
  "metadata": {
    "colab": {
      "name": "PSET1.ipynb",
      "provenance": [],
      "collapsed_sections": [
        "TBFZarclPt4o",
        "k1FbynLyLvyd"
      ]
    },
    "kernelspec": {
      "name": "python3",
      "display_name": "Python 3"
    }
  },
  "cells": [
    {
      "cell_type": "markdown",
      "metadata": {
        "id": "bXRLd25OKuCf"
      },
      "source": [
        "# **6.047 | 6.878 | HST.507**\n",
        "\n",
        "#**Fall 2021 Problem Set 1: Aligning and Modeling Genomes**\n",
        "\n",
        "Due: Monday, September 27 at 11:59PM (submit copy of notebook to Stellar)"
      ]
    },
    {
      "cell_type": "markdown",
      "metadata": {
        "id": "TBFZarclPt4o"
      },
      "source": [
        "#Load libraries\n"
      ]
    },
    {
      "cell_type": "code",
      "metadata": {
        "id": "IMjjMM_QPrUz"
      },
      "source": [
        "from google.colab import files\n",
        "from math import log\n",
        "import matplotlib.pyplot as plt\n",
        "import io, random"
      ],
      "execution_count": 2,
      "outputs": []
    },
    {
      "cell_type": "markdown",
      "metadata": {
        "id": "k1FbynLyLvyd"
      },
      "source": [
        "#Evolutionary distances of orthologs and paralogs\n",
        "\n",
        "In this problem, you will implement the Needleman-Wunsch algorithm for pairwise sequence alignment, apply it to the protein-coding sequences of related genes from several mammalian genomes, and use the results to learn about their evolution."
      ]
    },
    {
      "cell_type": "markdown",
      "metadata": {
        "id": "p7vjeNNHtF2p"
      },
      "source": [
        "**A) Below is a python skeleton program that you need to complete. We provide a traceback routine, but you will write the code to fill in the score and traceback matrices. The skeleton program specifies a substitution matrix and gap penalty.**"
      ]
    },
    {
      "cell_type": "code",
      "metadata": {
        "id": "H9UO8RNoK8G3"
      },
      "source": [
        "base_idx = { 'A' : 0, 'G' : 1, 'C' : 2, 'T' : 3 }\n",
        "PTR_NONE, PTR_GAP1, PTR_GAP2, PTR_BASE = 0, 1, 2, 3\n",
        "S = [\n",
        "\t# A  G   C   T\n",
        "\t[3, -1, -2, -2], # A\n",
        "\t[-1, 3, -2, -2], # G\n",
        "\t[-2, -2, 3, -1], # C\n",
        "\t[-2, -2, -1, 3]  # T\n",
        "\t]\n",
        "gap_pen = 4\n",
        "\n",
        "def readSeq(file):\n",
        "\t\"\"\"reads in a FASTA sequence\"\"\"\n",
        "\tseq = []\n",
        "\tfor line in file.splitlines():\n",
        "\t\tif line.startswith(\">\"):\n",
        "\t\t\tcontinue\n",
        "\t\tseq.append(line.rstrip())\n",
        "\treturn \"\".join(seq)\n",
        " \n",
        "def traceback(seq1,seq2,TB):\n",
        "\ts1, s2 = \"\", \"\"\n",
        "\ti, j = len(seq1), len(seq2)\n",
        "\twhile TB[i][j] != PTR_NONE:\n",
        "\t\tif TB[i][j] == PTR_BASE:\n",
        "\t\t\ts1 = seq1[i-1] + s1\n",
        "\t\t\ts2 = seq2[j-1] + s2\n",
        "\t\t\ti -= 1\n",
        "\t\t\tj -= 1\n",
        "\t\telif TB[i][j] == PTR_GAP1:\n",
        "\t\t\ts1 = '-' + s1\n",
        "\t\t\ts2 = seq2[j-1] + s2\n",
        "\t\t\tj -= 1\n",
        "\t\telif TB[i][j] == PTR_GAP2:\n",
        "\t\t\ts1 = seq1[i-1] + s1\n",
        "\t\t\ts2 = '-' + s2\n",
        "\t\t\ti -= 1\n",
        "\t\telse: assert False\n",
        "\n",
        "\treturn s1, s2\n",
        "\n",
        "def getResults(seq1,seq2):\n",
        "\tscore, F, TB = seqalignDP(seq1, seq2, S, gap_pen)\n",
        "\ts1, s2 = traceback(seq1, seq2, TB)\n",
        "\treturn score, F, TB, s1, s2\n",
        "\n",
        "def seqalignDP(seq1,seq2,subst_matrix,gap_pen):\n",
        "\t\"\"\"return the score of the optimal Needleman-Wunsch alignment for seq1 and seq2\n",
        "\tNote: gap_pen should be positive (it is subtracted)\n",
        "\t\"\"\"\n",
        "\tF = [[0 for j in range(len(seq2) + 1)] for i in range(len(seq1) + 1)]\n",
        "\tTB = [[PTR_NONE for j in range(len(seq2) + 1)] for i in range(len(seq1) + 1)]\n",
        "\n",
        "\t# initialize dynamic programming table for Needleman-Wunsch alignment (Durbin p.20)\n",
        "\tfor i in range(1,len(seq1) + 1):\n",
        "\t\tF[i][0] = 0 - i * gap_pen\n",
        "\t\tTB[i][0] = PTR_GAP2 # indicates a gap in seq2\n",
        "\tfor j in range(1,len(seq2) + 1):\n",
        "\t\tF[0][j] = 0 - j * gap_pen\n",
        "\t\tTB[0][j] = PTR_GAP1 # indicates a gap in seq1\n",
        "\n",
        "\tfor i in range(1, len(seq1) + 1):\n",
        "\t\tfor j in range(1, len(seq2) + 1):\n",
        "\t\t\tmis_match=F[i-1][j-1] + S[base_idx[seq1[i-1]]][base_idx[seq2[j-1]]]\n",
        "\t\t\tgap1=F[i][j-1] - gap_pen\n",
        "\t\t\tgap2=F[i-1][j] - gap_pen\n",
        "\t\t\tF[i][j] = max(mis_match, gap1, gap2)\n",
        "\t \t\t\n",
        "\t\n",
        "\t\t\tdirection = max(F[i-1][j-1], F[i][j-1], F[i-1][j])\n",
        "\t\t\tif direction == F[i-1][j-1]:\n",
        "\t\t\t\tTB[i-1][j-1] = PTR_BASE\n",
        "\t\t\telif direction == F[i][j-1]:\n",
        "\t\t\t\tTB[i-1][j-1] = PTR_GAP2\n",
        "\t\t\telif direction == F[i-1][j]:\n",
        "\t\t\t\tTB[i-1][j-1] = PTR_GAP1\n",
        "\t\t\t\t\n",
        "\treturn F[len(seq1)][len(seq2)], F, TB"
      ],
      "execution_count": 3,
      "outputs": []
    },
    {
      "cell_type": "markdown",
      "metadata": {
        "id": "X9-1NU5MhAP8"
      },
      "source": [
        "**B) Run the following code block to evaluate your Needleman-Wunsch algorithm implementation on two relatively simple sequences. If you make any edits to the code block, please restore it to the original version before turning it in.**"
      ]
    },
    {
      "cell_type": "code",
      "metadata": {
        "id": "b-GlK3XRSRtE",
        "colab": {
          "base_uri": "https://localhost:8080/"
        },
        "outputId": "c681758d-2e29-4366-9e3d-d879996df38e"
      },
      "source": [
        "seq1, seq2 = \"CTAAGTACT\", \"CATTA\"\n",
        "\n",
        "score, F, TB, s1, s2 = getResults(seq1, seq2)\n",
        "\n",
        "print(\"\\n\".join([str(score), s1, s2]))\n",
        "for line in F:\n",
        "\tprint(line)\n"
      ],
      "execution_count": 30,
      "outputs": [
        {
          "output_type": "stream",
          "name": "stdout",
          "text": [
            "-6\n",
            "\n",
            "\n",
            "[0, -4, -8, -12, -16, -20]\n",
            "[-4, 3, -1, -5, -9, -13]\n",
            "[-8, -1, 1, 2, -2, -6]\n",
            "[-12, -5, 2, -1, 0, 1]\n",
            "[-16, -9, -2, 0, -3, 3]\n",
            "[-20, -13, -6, -4, -2, -1]\n",
            "[-24, -17, -10, -3, -1, -4]\n",
            "[-28, -21, -14, -7, -5, 2]\n",
            "[-32, -25, -18, -11, -8, -2]\n",
            "[-36, -29, -22, -15, -8, -6]\n"
          ]
        }
      ]
    },
    {
      "cell_type": "markdown",
      "metadata": {
        "id": "mAxgO86efcpD"
      },
      "source": [
        "The Hox cluster is a set of genes that are crucial in determining body plan formation during embryo development. They are found in all bilateral animals, in species as distant as the fruit fly. The fruit fly has one Hox cluster, while most vertebrates have four. It is thought that vertebrates have undergone two rounds of whole-genome duplication, giving rise to four Hox clusters from the ancestral one, although the hypothesis remains controversial.\n",
        "\n",
        "In the remainder of this problem, you will use your Needleman-Wunsch implementation to analyze the sequences of several Hox genes, and estimate the date of the most recent vertebrate whole-genome duplication. In particular, we are interested in using the N-W alignment score as a distance metric between two sequences."
      ]
    },
    {
      "cell_type": "markdown",
      "metadata": {
        "id": "qsYHJaseBu_j"
      },
      "source": [
        "You will need to download the following [files](https://www.dropbox.com/sh/n0mhoinyc6vyhg4/AABJxeDjhF8RG-YBh1JTRTeia?dl=0) and upload them to colab using the following code block."
      ]
    },
    {
      "cell_type": "code",
      "metadata": {
        "id": "ZPOQBi20aI72",
        "colab": {
          "resources": {
            "http://localhost:8080/nbextensions/google.colab/files.js": {
              "data": "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",
              "ok": true,
              "headers": [
                [
                  "content-type",
                  "application/javascript"
                ]
              ],
              "status": 200,
              "status_text": ""
            }
          },
          "base_uri": "https://localhost:8080/",
          "height": 174
        },
        "outputId": "faf3eaf2-8c15-4509-d86a-fb5dbfad0b55"
      },
      "source": [
        "hox_fa = files.upload()\n",
        "for k, v in hox_fa.items():\n",
        "    hox_fa[k] = readSeq(v.decode(\"utf-8\"))"
      ],
      "execution_count": 26,
      "outputs": [
        {
          "output_type": "display_data",
          "data": {
            "text/html": [
              "\n",
              "     <input type=\"file\" id=\"files-e3f84fba-8766-4b57-9001-b9c6d2708ffb\" name=\"files[]\" multiple disabled\n",
              "        style=\"border:none\" />\n",
              "     <output id=\"result-e3f84fba-8766-4b57-9001-b9c6d2708ffb\">\n",
              "      Upload widget is only available when the cell has been executed in the\n",
              "      current browser session. Please rerun this cell to enable.\n",
              "      </output>\n",
              "      <script src=\"/nbextensions/google.colab/files.js\"></script> "
            ],
            "text/plain": [
              "<IPython.core.display.HTML object>"
            ]
          },
          "metadata": {}
        },
        {
          "output_type": "stream",
          "name": "stdout",
          "text": [
            "Saving human_HoxA13.fa to human_HoxA13.fa\n",
            "Saving human_HoxD13.fa to human_HoxD13.fa\n",
            "Saving mouse_HoxA13.fa to mouse_HoxA13.fa\n",
            "Saving mouse_HoxD13.fa to mouse_HoxD13.fa\n"
          ]
        }
      ]
    },
    {
      "cell_type": "markdown",
      "metadata": {
        "id": "SMh3sNQ4k3AN"
      },
      "source": [
        "**C) Make minor adjustments to your Needleman-Wunsch algorithm so that the score it computes can be interpreted as a distance metric. That is, the score of a sequence aligned with itself should be zero, all scores should be non-negative, and sequences that are more dissimilar should be given a score with a greater magnitude.**"
      ]
    },
    {
      "cell_type": "code",
      "metadata": {
        "id": "8uSP9pi1lDAB"
      },
      "source": [
        "S1 = [\n",
        "\t# A  G   C   T\n",
        "\t[0, 1, 2, 2], # A\n",
        "\t[1, 0, 2, 2], # G\n",
        "\t[2, 2, 0, 1], # C\n",
        "\t[2, 2, 1, 0]  # T\n",
        "\t]\n",
        "\t\n",
        "def seqalignDP(seq1,seq2,subst_matrix,gap_pen):\n",
        "\tF = [[0 for j in range(len(seq2) + 1)] for i in range(len(seq1) + 1)]\n",
        "\tTB = [[PTR_NONE for j in range(len(seq2) + 1)] for i in range(len(seq1) + 1)]\n",
        "\n",
        "\tfor i in range(1,len(seq1) + 1):\n",
        "\t\tF[i][0] = 0 + i * gap_pen\n",
        "\t\tTB[i][0] = PTR_GAP2\n",
        "\tfor j in range(1,len(seq2) + 1):\n",
        "\t\tF[0][j] = 0 + j * gap_pen\n",
        "\t\tTB[0][j] = PTR_GAP1\n",
        "\n",
        "\tfor i in range(1, len(seq1) + 1):\n",
        "\t\tfor j in range(1, len(seq2) + 1):\n",
        "\t\t\tmis_match=F[i-1][j-1] + S1[base_idx[seq1[i-1]]][base_idx[seq2[j-1]]]\n",
        "\t\t\tgap1=F[i][j-1] + gap_pen\n",
        "\t\t\tgap2=F[i-1][j] + gap_pen\n",
        "\t\t\tF[i][j] = min(mis_match, gap1, gap2)\n",
        "\t \n",
        "\t\t\tdirection = min(F[i-1][j-1], F[i][j-1], F[i-1][j])\n",
        "\t\t\tif direction == F[i-1][j-1]:\n",
        "\t\t\t\tTB[i][j] = PTR_BASE\n",
        "\t\t\telif direction == F[i][j-1]:\n",
        "\t\t\t\tTB[i][j] = PTR_GAP2\n",
        "\t\t\telif direction == F[i-1][j]:\n",
        "\t\t\t\tTB[i][j] = PTR_GAP1\n",
        "\t\n",
        "\t\t\t\t\n",
        "\treturn F[len(seq1)][len(seq2)], F, TB"
      ],
      "execution_count": 31,
      "outputs": []
    },
    {
      "cell_type": "markdown",
      "metadata": {
        "id": "4WXHwzPilPug"
      },
      "source": [
        "**D) When you believe that your Needleman-Wunsch implementation has been adjusted appropriately, run the following code block to compute the distance between the human HoxA13 gene and the mouse HoxA13 gene.**"
      ]
    },
    {
      "cell_type": "code",
      "metadata": {
        "id": "9yzqKPg4lZMu",
        "colab": {
          "base_uri": "https://localhost:8080/"
        },
        "outputId": "9cb4382a-a953-4bb3-873e-7b132e6ed7d4"
      },
      "source": [
        "seq1, seq2 = hox_fa[\"human_HoxA13.fa\"], hox_fa[\"mouse_HoxA13.fa\"]\n",
        "\n",
        "score, F, TB, s1, s2 = getResults(seq1, seq2)\n",
        "\n",
        "print(score)"
      ],
      "execution_count": 32,
      "outputs": [
        {
          "output_type": "stream",
          "name": "stdout",
          "text": [
            "197\n"
          ]
        }
      ]
    },
    {
      "cell_type": "markdown",
      "metadata": {
        "id": "WmKUZD9Kmjfz"
      },
      "source": [
        "**E) The modern mammalian genes HoxA13 and HoxD13 arose from a single ancestral gene by whole-genome duplication, long before the human-mouse divergence. We provide the sequences of the human and mouse HoxD13 genes on the web site. Given that the fossil record shows that human and mouse diverged about 70 million years ago, use your distance metric and your results from part (C) to estimate the date of the whole-genome duplication that gave rise to HoxA13 and HoxD13. Make sure to state the assumptions underlying your estimate.**"
      ]
    },
    {
      "cell_type": "code",
      "metadata": {
        "id": "ITdbV0tYmpOa",
        "colab": {
          "base_uri": "https://localhost:8080/"
        },
        "outputId": "8e9188e2-38b1-451f-f04b-2a3b21a0b94a"
      },
      "source": [
        "seq1_1, seq2_1 = hox_fa[\"human_HoxA13.fa\"], hox_fa[\"human_HoxD13.fa\"]\n",
        "\n",
        "score_1, F_1, TB_1, s1_1, s2_1 = getResults(seq1_1, seq2_1)\n",
        "\n",
        "seq1_2, seq2_2 = hox_fa[\"mouse_HoxA13.fa\"], hox_fa[\"mouse_HoxD13.fa\"]\n",
        "\n",
        "score_2, F_2, TB_2, s1_2, s2_2 = getResults(seq1_2, seq2_2)\n",
        "\n",
        "print(\"between \" + str(score_1*70/score) + \" and \" + str(score_2*70/score) + \" million years\")"
      ],
      "execution_count": 33,
      "outputs": [
        {
          "output_type": "stream",
          "name": "stdout",
          "text": [
            "between 406.8527918781726 and 389.0862944162437 million years\n"
          ]
        }
      ]
    },
    {
      "cell_type": "markdown",
      "metadata": {
        "id": "YBkq4F0bmpkn"
      },
      "source": [
        "This answer assumes that the distance metric is proportionate to amount of dissimiliarity and that dissimiliarity is proportionate to time passed, allowing the use of the ratio of distance metric to time."
      ]
    },
    {
      "cell_type": "markdown",
      "metadata": {
        "id": "XhE9cZrFpcDO"
      },
      "source": [
        "#Sequence hashing and dotplot visualization\n",
        "\n",
        "As you have seen in the previous problem, sequence alignment is a quadratic time algorithm. Full sequence alignment is therefore only feasible for sequences near the length of a single gene. To align larger regions of a genome, heuristic approximations are typically used. In this problem, you will use hashing techniques to guide the alignment of a 1 megabase (1 million nucleotides) region surrounding the HoxA cluster in human (`human-hoxa-region.fa`) and mouse (`mouse-hoxa-region.fa`). You will use dotplots to visualize the performance of various hashing methodologies."
      ]
    },
    {
      "cell_type": "markdown",
      "metadata": {
        "id": "y_dQboyT-v9M"
      },
      "source": [
        "You will need to download the following [files](https://www.dropbox.com/sh/4bvkqibn4pt9dty/AABXPS8WMXfHswT2PIR8KdGXa?dl=0) and upload them to colab using the following code block."
      ]
    },
    {
      "cell_type": "code",
      "metadata": {
        "id": "HvxoFg17-wGi",
        "colab": {
          "resources": {
            "http://localhost:8080/nbextensions/google.colab/files.js": {
              "data": "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",
              "ok": true,
              "headers": [
                [
                  "content-type",
                  "application/javascript"
                ]
              ],
              "status": 200,
              "status_text": ""
            }
          },
          "base_uri": "https://localhost:8080/",
          "height": 140
        },
        "outputId": "f65f0467-451d-4548-ff52-924df175fa98"
      },
      "source": [
        "hox_fa_add = files.upload()\n",
        "for k, v in hox_fa_add.items():\n",
        "    hox_fa_add[k] = readSeq(v.decode(\"utf-8\"))"
      ],
      "execution_count": 4,
      "outputs": [
        {
          "output_type": "display_data",
          "data": {
            "text/html": [
              "\n",
              "     <input type=\"file\" id=\"files-d09e50a6-6baf-42b0-9bf5-2d38e219a67d\" name=\"files[]\" multiple disabled\n",
              "        style=\"border:none\" />\n",
              "     <output id=\"result-d09e50a6-6baf-42b0-9bf5-2d38e219a67d\">\n",
              "      Upload widget is only available when the cell has been executed in the\n",
              "      current browser session. Please rerun this cell to enable.\n",
              "      </output>\n",
              "      <script src=\"/nbextensions/google.colab/files.js\"></script> "
            ],
            "text/plain": [
              "<IPython.core.display.HTML object>"
            ]
          },
          "metadata": {}
        },
        {
          "output_type": "stream",
          "name": "stdout",
          "text": [
            "Saving human-hoxa-region-modified.fa to human-hoxa-region-modified.fa\n",
            "Saving human-hoxa-region.fa to human-hoxa-region.fa\n",
            "Saving mouse-hoxa-region.fa to mouse-hoxa-region.fa\n"
          ]
        }
      ]
    },
    {
      "cell_type": "markdown",
      "metadata": {
        "id": "9ra609eDYXTM"
      },
      "source": [
        "The code block below finds all 30-mers in the human that also appear in mouse. On a dotplot, each of these matches is represented as a single dot at $(x,y)$, where $x$ is a coordinate for the beginning of a 30-mer in human and $y$ is a coordinate for the beginning of a matching 30-mer in mouse. We provide a plotting function that will produce dotplot images.  The format of the image is determined by the file extension (`.ps`, `.png`, `.jpg`). There is also code for heuristically judging the *specificity* of the matches (the fraction of matches that occur near the diagonal of the dotplot)."
      ]
    },
    {
      "cell_type": "code",
      "metadata": {
        "id": "fWq2edmDzRkp"
      },
      "source": [
        "bp_dict = {'A': 'T', 'T': 'A', 'C': 'G', 'G': 'C'}\n",
        "\n",
        "def quality(hits):\n",
        "    \"\"\"determines the quality of a list of hits\"\"\"\n",
        "    slope1 = 1.0e6 / (825000 - 48000)\n",
        "    slope2 = 1.0e6 / (914000 - 141000)\n",
        "    offset1 = 0 - slope1*48000\n",
        "    offset2 = 0 - slope2*141000\n",
        "    goodhits = []\n",
        "    for hit in hits:\n",
        "        upper = slope1 * hit[0] + offset1\n",
        "        lower = slope2 * hit[0] + offset2\n",
        "        if lower < hit[1] < upper:\n",
        "            goodhits.append(hit)\n",
        "    return goodhits\n",
        "\n",
        "def makeDotplot(hits):\n",
        "    \"\"\"generate a dotplot from a list of hits\n",
        "       filename may end in the following file extensions:\n",
        "         *.ps, *.png, *.jpg\n",
        "    \"\"\"\n",
        "    x, y = zip(* hits)\n",
        "    slope1 = 1.0e6 / (825000 - 48000)\n",
        "    slope2 = 1.0e6 / (914000 - 141000)\n",
        "    offset1 = 0 - slope1*48000\n",
        "    offset2 = 0 - slope2*141000\n",
        "    hits2 = quality(hits)\n",
        "\n",
        "    # create plot\n",
        "    plt.scatter(x, y, marker = \"+\", color = \"purple\")\n",
        "    plt.xlabel(\"sequence2\")\n",
        "    plt.xlim(0, 1e6)\n",
        "    plt.ylabel(\"sequence 1\")\n",
        "    plt.ylim(0, 1e6)\n",
        "    plt.title(\"dotplot (%d hits, %.5f%% hits on diagonal)\" %\n",
        "              (len(hits), 100 * len(hits2) / float(len(hits))))\n",
        "    plt.plot(x, [slope1 * val + offset1 for val in x], color = \"blue\")\n",
        "    plt.plot(x, [slope2 * val + offset2 for val in x], color = \"blue\")\n",
        "\n",
        "    return"
      ],
      "execution_count": 6,
      "outputs": []
    },
    {
      "cell_type": "markdown",
      "metadata": {
        "id": "skkxrnFDs0vO"
      },
      "source": [
        "**A) Run the following code block unchanged to generate a dotplot for all exact matching 30-mers.**\n",
        "\n",
        "**Describe what you see. How many hits are there and what percentage fall near the diagonal? Do you observe any structure in the off-diagonal hits? What types of genomic elements could cause such a pattern? Why are matches that are close to the diagonal more likely than off-diagonal matches to represent \"correct\", or orthologous, alignments?**"
      ]
    },
    {
      "cell_type": "code",
      "metadata": {
        "id": "WhKu0w_6EwwM",
        "colab": {
          "base_uri": "https://localhost:8080/",
          "height": 329
        },
        "outputId": "0faccfeb-284c-445a-b7f8-c11fb1047b2a"
      },
      "source": [
        "seq1 = readSeq(hox_fa_add[\"human-hoxa-region.fa\"])\n",
        "seq2 = readSeq(hox_fa_add[\"mouse-hoxa-region.fa\"])\n",
        "kmerlen = 30\n",
        "\n",
        "print(\"hashing seq1\")\n",
        "lookup = {}\n",
        "for i in range(len(seq1) - kmerlen + 1):\n",
        "    key = seq1[i:i + kmerlen]\n",
        "    lookup.setdefault(key, []).append(i)\n",
        "\n",
        "print(\"hashing seq2\")\n",
        "hits = []\n",
        "for i in range(len(seq2) - kmerlen + 1):\n",
        "    key = seq2[i:i + kmerlen]\n",
        "    for hit in lookup.get(key, []):\n",
        "        hits.append((i, hit))\n",
        "\n",
        "makeDotplot(hits)"
      ],
      "execution_count": 35,
      "outputs": [
        {
          "output_type": "stream",
          "name": "stdout",
          "text": [
            "hashing seq1\n",
            "hashing seq2\n"
          ]
        },
        {
          "output_type": "display_data",
          "data": {
            "image/png": "[encoded data removed]",
            "text/plain": [
              "<Figure size 432x288 with 1 Axes>"
            ]
          },
          "metadata": {
            "needs_background": "light"
          }
        }
      ]
    },
    {
      "cell_type": "markdown",
      "metadata": {
        "id": "4GSuuyFRZJlO"
      },
      "source": [
        "62829 hits, 24.702% along the diagonal.\n",
        "\n",
        "Off-diagonal hits occur in vertical/horizontal segments, indicating some 30-mer identified in sequence 2 is repeated many times within a short segment of sequence 1, or vice versa. This may be due to tandem repeats and/or mini-satellite DNA (found in the centromeres. repetitive elements in each genome. Spotted column or row formations may indicate interspersed repetitive DNA. Some may also represent true orthologs, where rearrangements in genomic structure or ancient duplications may result in off-diagonal orthologs or homologous sequnces with dissimilar functions, respectively.\n",
        "\n",
        "Conversely, hits along the diagonal are more likely to indicate orthologs since mice and humans are both mammals, sharing some common ancestor, and therefore likely have similar organization of genetic elements."
      ]
    },
    {
      "cell_type": "markdown",
      "metadata": {
        "id": "gjPlozwwZMcJ"
      },
      "source": [
        "**B) Make the following modifications to the script and report how the plot changes qualitatively and quantatively (how many hits, what percentage are near the diagonal). Also briefly describe how you implemented each change.**\n",
        "\n",
        "1. **Modify the script to find all *exact* matching 100-mers**\n",
        "2. **Modify the script to find all 60-mers that match every *other* base**\n",
        "3. **Modify the script to find all 90-mers that match every *third* base**\n",
        "4. **Modify the script to find all 120-mers that match every *fourth* base**\n",
        "5. **Modify the script to find all 100-mers that allow at *most two* mismatches in each contiguous block of six bases. Instead of modifying the script and generating the plot, focus on describing how you would implement this modification.**\n",
        "\n",
        "**Use the following code and text block to implement your changes and record your results, respectively.**\n",
        "\n"
      ]
    },
    {
      "cell_type": "code",
      "metadata": {
        "id": "P9Bd7ByDzlDk",
        "colab": {
          "base_uri": "https://localhost:8080/",
          "height": 329
        },
        "outputId": "d812f5c7-a678-41ca-aaa1-a08ba324141e"
      },
      "source": [
        "seq1 = readSeq(hox_fa_add[\"human-hoxa-region.fa\"])\n",
        "seq2 = readSeq(hox_fa_add[\"mouse-hoxa-region.fa\"])\n",
        "kmerlen = 100\n",
        "\n",
        "print(\"hashing seq1\")\n",
        "lookup = {}\n",
        "for i in range(len(seq1) - kmerlen + 1):\n",
        "    key=seq1[i:i + kmerlen]\n",
        "    lookup.setdefault(key, []).append(i)\n",
        "\n",
        "print(\"hashing seq2\")\n",
        "hits = []\n",
        "for i in range(len(seq2) - kmerlen + 1):\n",
        "    key = seq2[i:i + kmerlen]\n",
        "    for hit in lookup.get(key, []):\n",
        "        hits.append((i, hit))\n",
        "\n",
        "makeDotplot(hits)"
      ],
      "execution_count": 36,
      "outputs": [
        {
          "output_type": "stream",
          "name": "stdout",
          "text": [
            "hashing seq1\n",
            "hashing seq2\n"
          ]
        },
        {
          "output_type": "display_data",
          "data": {
            "image/png": "[encoded data removed]",
            "text/plain": [
              "<Figure size 432x288 with 1 Axes>"
            ]
          },
          "metadata": {
            "needs_background": "light"
          }
        }
      ]
    },
    {
      "cell_type": "markdown",
      "metadata": {
        "id": "z6JlDAAbZtDN"
      },
      "source": [
        "1. 1198 hits, 100% along diagonal; there are much fewer hits, but they only appear along the diagonal because the genes they encode must be perfectly conserved down to the nucleotide. Implementation consisted of changing the k-mer length to 100.\n",
        "2. 23933 hits, 38.741% along diagonal; there are many more hits, most not along the diagonal, suggesting that although the current parameters are very sensitive, searching for k-mers >60 bp may increase guarantee specifity. Implementation consisted of changing k-mer length to 60 and increasing the step-size to 2 in the slicing of the sequence arrays.\n",
        "3. 8887 hits, 93.856% along diagonal; this has a high degree of specificity due to the step-size chosen, although sensitivity dramatically drops off. Implementation consisted of increasing k-mer length to 90 and increasing step-size to 3.\n",
        "4. 6044 hits, 82.131% along diagonal; both specificity and sensitivity drop off, due to both the increasing k-mer length needed for a hit and the step-size, which has less correlation to specificity.\n",
        "5. Hashing each 100-mer in sequence 1 consists of creating a tree with the first 6-mer, branching into $6 \\choose 2$ wildcard placements in the first 6-mer, then creating a tree whose branches indicate the next nucleotide in the 100-mer being the corresponding nucleotide and/or a wildcard, determined by removing the first nucleotide in the 6-mer, which can be either a nucleotide or a wildcard.  Then leaves of the tree represent all possible configurations of 100-mers with 2-in-6 wildcards, all added to the lookup dictionary using the same location as the value. The same process is repeated for sequence 2, then hits are identified by lookup as is performed in previous k-mer searches."
      ]
    },
    {
      "cell_type": "markdown",
      "metadata": {
        "id": "ZV6SQ7G-atYE"
      },
      "source": [
        "**C) Although parts a, b.ii, b.iii, and b.iv require the same number of matching bases (30 = 60/2 = 90/3 = 120/4), one of them is more specific to the diagonal. Explain why this might be so.**"
      ]
    },
    {
      "cell_type": "markdown",
      "metadata": {
        "id": "G0x7zMhJbZ07"
      },
      "source": [
        "Matching every third base has the most biological significance since it corresponds to the conservation of some index of each codon. The first index is the greatest determinant of the corresponding amino acid. Thus, in order to match across 90 base pairs, it is more likely to match the first or second bases of each of the 30 codons in orthologous alignment, than the last codon, which often varies even in orthologs."
      ]
    },
    {
      "cell_type": "markdown",
      "metadata": {
        "id": "VteM-u0_bb0W"
      },
      "source": [
        "**D) Explain the trade-off you see between number of hits near the diagonal (sensitivity) and the percentage of hits near the diagonal (specificity). How is the trade-off affected by the hashing parameters?**"
      ]
    },
    {
      "cell_type": "markdown",
      "metadata": {
        "id": "QLP9uag9bb3B"
      },
      "source": [
        "Sensitivity is dependent on the k-mer length chosen; smaller sizes are able to pick up more hits and thus the number of hits near the diagonal increases. Specificity is more dependent on the pattern of matching required; for example, matching every third has biological significance that returns more orthologous alignments."
      ]
    },
    {
      "cell_type": "markdown",
      "metadata": {
        "id": "M9Ilb8tobwN3"
      },
      "source": [
        "**E) Modify the script to also detect inversions. An inversion occurs when a stretch of DNA is spliced out and reinserted in reverse orientation. For example,**\n",
        "\n",
        "**CGT[GATT]AGA**\n",
        "\n",
        "**CGT[TTAG]AGA**\n",
        "\n",
        "**The `human-hoxa-region-modified.fa` file contains a version of the Hox region with an artificial inversion. Use the dotplot to locate the inversion in human. (Note: ignore the sensitivity measure, and only test all sizes necessary to detect the inversion). For convenience, the starter dotplot code is provided below.**\n",
        "\n"
      ]
    },
    {
      "cell_type": "code",
      "metadata": {
        "id": "qWy-U6Lhdhft",
        "colab": {
          "base_uri": "https://localhost:8080/",
          "height": 499
        },
        "outputId": "20e56cc0-a19e-4db5-a8f8-b4115d1f91a8"
      },
      "source": [
        "seq1 = readSeq(hox_fa_add[\"human-hoxa-region.fa\"])\n",
        "seq2 = readSeq(hox_fa_add[\"human-hoxa-region-modified.fa\"])\n",
        "kmerlen = 500\n",
        "\n",
        "print(\"hashing seq1\")\n",
        "lookup = {}\n",
        "for i in range(kmerlen, len(seq1) + 1):\n",
        "    key=''\n",
        "    for j in seq1[i:i-kmerlen:-1]:\n",
        "      key+=bp_dict[j]\n",
        "    lookup.setdefault(key, []).append(i)\n",
        "\n",
        "print(\"hashing seq2\")\n",
        "hits = []\n",
        "for i in range(len(seq2) - kmerlen + 1):\n",
        "    key = seq2[i:i + kmerlen]\n",
        "    for hit in lookup.get(key, []):\n",
        "        hits.append((i, hit))\n",
        "print(hits)\n",
        "makeDotplot(hits)"
      ],
      "execution_count": 7,
      "outputs": [
        {
          "output_type": "stream",
          "name": "stdout",
          "text": [
            "hashing seq1\n",
            "hashing seq2\n"
          ]
        },
        {
          "output_type": "stream",
          "name": "stderr",
          "text": [
            "IOPub data rate exceeded.\n",
            "The notebook server will temporarily stop sending output\n",
            "to the client in order to avoid crashing it.\n",
            "To change this limit, set the config variable\n",
            "`--NotebookApp.iopub_data_rate_limit`.\n",
            "\n",
            "Current values:\n",
            "NotebookApp.iopub_data_rate_limit=1000000.0 (bytes/sec)\n",
            "NotebookApp.rate_limit_window=3.0 (secs)\n",
            "\n"
          ]
        },
        {
          "output_type": "display_data",
          "data": {
            "image/png": "[encoded data removed]",
            "text/plain": [
              "<Figure size 432x288 with 1 Axes>"
            ]
          },
          "metadata": {
            "needs_background": "light"
          }
        }
      ]
    },
    {
      "cell_type": "markdown",
      "metadata": {
        "id": "cB4YXAs1fYu0"
      },
      "source": [
        "The inversion is located from  to  ."
      ]
    },
    {
      "cell_type": "markdown",
      "metadata": {
        "id": "xyr-rbhvfr8k"
      },
      "source": [
        "#HMMs for GC-rich regions: State durations and limitations\n",
        "\n",
        "An important use of HMMs is to decode or parse a genome into its biological components: exons, introns, regulatory regions, etc. In this problem, we will examine how the accuracy of HMM predictions is affected by certain inherent properties of the model.\n",
        "\n",
        "In this problem, we will use GC content (the fraction of letters that are a C or a G) to classify the genome into high-GC regions (on average 60\\% G or C) and Low-GC regions (on average 60\\% A or T). These have different melting temperatures, different replication times across the cell cycle, and different gene density. They have also been hypothesized to have different evolutionary origins (see *isochores*}), but this hypothesis remains controversial."
      ]
    },
    {
      "cell_type": "markdown",
      "metadata": {
        "id": "qDiOYh0CwQWv"
      },
      "source": [
        "**A) In most HMMs, the self-loop transition probabilities $a_{kk}$ are large, while the transition probabilities between different states $a_{kl}$ are small. Once a Markov chain with these transition probabilities enters state $k$, it tends to stay in state $k$ for a while. The *state duration* is the total number of consecutive steps at which the Markov chain stays in the same state, before switching to another state (e.g. transitioning into state $k$ and then transitioning out to a different state is a state duration of 1).  What is the expected (mean) state duration of state $k$ as a function of the transition probability $a_{kk}$? What is the distribution of state durations $P(D_{k}=d)$?**"
      ]
    },
    {
      "cell_type": "markdown",
      "metadata": {
        "id": "l_PxoREGw3MI"
      },
      "source": [
        "Each transition occurs independently of each other, therefore the expected state duration for a sequence of length $N$ is $\\sum_{i=1}^{N} i(a_{kk})^{i-1}a_{kl} = \\frac{1}{1-a_{kk}}$. The distribution of state durations $P(D_k = d)$ is a geometric distribution with ratio $a_{kk}$. "
      ]
    },
    {
      "cell_type": "markdown",
      "metadata": {
        "id": "Vu6EL4ccwMzE"
      },
      "source": [
        "**B) Our simple model requires only two states. You will complete the code block below to implement the Viterbi algorithm.**\n",
        "\n",
        "The nearly complete Viterbi algorithm does the following:\n",
        "\n",
        "* Reads in a data file containing a DNA sequence and an authoritative (correct) annotation, consisting of a string of pluses and minuses, specifying where the High-GC and Low-GC regions are, respectively.\n",
        "* Calculates the base composition of the High-GC and Low-GC regions and the mean length of High-GC and Low-GC regions. (All with respect to the authoritative annotation.)\n",
        "* Performs Viterbi decoding on the DNA sequence, using a hard-coded HMM designed to detect High-GC and Low-GC regions. (This is the part you will complete.)\n",
        "* Calculates the base composition of the High-GC and Low-GC regions and the mean length of High-GC and Low-GC regions. (All with respect to the Viterbi annotation.)\n",
        "* Calculates the accuracy of the Viterbi decoding, defined as the percentage of predicted plus and minus states that match the authoritative annotation.\n",
        "\n",
        "**This will allow you to decode several artificial genomes, and then compare the resulting predictions of High-GC and Low-GC regions to a provided (correct) annotation. Based on the HMM parameters hard-coded into the algorithm, what are the expected state durations for High-GC and Low-GC regions?**\n",
        "\n",
        "The expected duration is $\\frac{1}{0.01} = 100$ bp for High-GC and Low-GC regions."
      ]
    },
    {
      "cell_type": "code",
      "metadata": {
        "id": "qVx4clmgptUf"
      },
      "source": [
        "###############################################################################\n",
        "# HMM PARAMETERS\n",
        "# Conventions: + refers to High-GC, and - refers to Low-GC. When indexing\n",
        "#  states, 0 is + and 1 is -.\n",
        "###############################################################################\n",
        "\n",
        "state_idx = { '+' : 0, '-' : 1 }\n",
        "\n",
        "# initial distribution over states, i.e. probability of starting in state k\n",
        "init_dist = [0.5,0.5]\n",
        "\n",
        "# transition probabilities\n",
        "tr = [\n",
        "    #  to+   to-\n",
        "    [ 0.87, 0.13 ], # from+\n",
        "    [ 0.13, 0.87 ]  # from-\n",
        "]\n",
        "\n",
        "# emission probabilities\n",
        "em = [\n",
        "    #    A     G     C     T\n",
        "    [ 0.20, 0.30, 0.30, 0.20], # +\n",
        "    [ 0.30, 0.20, 0.20, 0.30]  # -\n",
        "]\n",
        "\n",
        "###############################################################################\n",
        "# ANNOTATION BENCHMARKING\n",
        "###############################################################################\n",
        "\n",
        "def basecomp(X, anno):\n",
        "    counts = [[0] * 4, [0] * 4]\n",
        "    for i in range(len(X)):\n",
        "        counts[anno[i]][X[i]] += 1\n",
        "    sum0 = sum(counts[0])\n",
        "    sum1 = sum(counts[1])\n",
        "    return [[x / sum0 for x in counts[0]], [x / sum1 for x in counts[1]]]\n",
        "\n",
        "def region_lengths(anno):\n",
        "    lengths = [[], []]\n",
        "    curlen = 1\n",
        "    for i in range(1, len(anno)):\n",
        "        if anno[i] == anno[i - 1]:\n",
        "            curlen += 1\n",
        "        else:\n",
        "            lengths[anno[i - 1]].append(curlen)\n",
        "            curlen = 1\n",
        "    lengths[anno[len(anno) - 1]].append(curlen)\n",
        "    return lengths\n",
        "\n",
        "def anno_accuracy(refanno, testanno):\n",
        "    assert len(refanno) == len(testanno)\n",
        "    return str(sum([x == y for x, y in zip(refanno, testanno)]) / len(refanno) * 100) + \"%\"\n",
        "\n",
        "def basecomp_str(b):\n",
        "    return \"A=%.2f%% G=%.2f%% C=%.2f%% T=%.2f%%\" % (100 * b[0], 100 * b[1], 100 * b[2], 100 * b[3])\n",
        "\n",
        "def print_annostats(X, anno, label):\n",
        "    lengths = region_lengths(anno)\n",
        "    basecomps = basecomp(X,anno)\n",
        "\n",
        "    print(\"High-GC mean region length: \", int(round(sum(lengths[0]) / len(lengths[0]))))\n",
        "    print(\"High-GC base composition: \", basecomp_str(basecomps[0]))\n",
        "    print(\"Low-GC mean region length: \", int(round(sum(lengths[1]) / len(lengths[1]))))\n",
        "    print(\"Low-GC base composition: \", basecomp_str(basecomps[1]))\n",
        "\n",
        "    fig, (ax1, ax2) = plt.subplots(2, 1, sharex = True)\n",
        "    ax1.set_title(label + \" High-GC\")\n",
        "    ax1.hist(lengths[0], bins = 20)\n",
        "    ax2.set_title(label + \" Low-GC\")\n",
        "    ax2.hist(lengths[1], bins = 20)\n",
        "    plt.show()\n",
        "    \n",
        "def print_summary(X, refanno, testanno):\n",
        "    print(\"Authoritative annotation statistics\")\n",
        "    print(\"-----------------------------------\")\n",
        "    print_annostats(X, refanno, \"Authoritative\")\n",
        "    print(\"\")\n",
        "\n",
        "    print(\"Viterbi annotation statistics\")\n",
        "    print(\"-----------------------------------\")\n",
        "    print_annostats(X, testanno, \"Viterbi\")\n",
        "    print(\"\")\n",
        "\n",
        "    print(\"Accuracy: \" + anno_accuracy(refanno, testanno))\n",
        "\n",
        "###############################################################################\n",
        "# VITERBI ALGORITHM (you must complete)\n",
        "# Note: The length of the sequences we are dealing with is large enough that it\n",
        "#       is necessary to use log-probabilities for numerical stability. You will\n",
        "#       need to adapt the formulae accordingly.\n",
        "###############################################################################\n",
        "\n",
        "def viterbi(X):\n",
        "    \"\"\"Returns the Viterbi path for the emission sequence X.\n",
        "    X should be a list of integers, 0=A, 1=G, 2=C, 3=T.\n",
        "    The returned Y is a list of integers, 0=High-GC, 1=Low-GC.\n",
        "    \"\"\"\n",
        "    N = len(tr)\n",
        "    L = len(X)\n",
        "    assert len(em) == N\n",
        "    V = [[0]*N for _ in range(L)]\n",
        "    TB = [[0]*N for _ in range(L)]\n",
        "    for i in range(L):\n",
        "        Vprev = []\n",
        "        if i == 0:\n",
        "            Vprev = [log(pk0) for pk0 in init_dist]\n",
        "        else:\n",
        "            Vprev = V[i-1]\n",
        "        for k in range(N):\n",
        "            prev_state=[(Vprev[j] + log(tr[j][k])) for j in range(N)]\n",
        "            V[i][k]=log(em[k][X[i]]) + max(prev_state)\n",
        "\n",
        "            if max(prev_state)==prev_state[0]:\n",
        "              TB[i][k]=0\n",
        "            else:\n",
        "              TB[i][k]=1\n",
        "\n",
        "    # perform traceback and return the predicted hidden state sequence\n",
        "    Y = [-1 for i in range(L)]\n",
        "    _, yL = max([ (V[L - 1][k], k) for k in range(N)])\n",
        "    Y[L - 1] = yL\n",
        "    for i in range(L - 2, -1, -1):\n",
        "        Y[i] = TB[i + 1][Y[i + 1]]\n",
        "    return Y"
      ],
      "execution_count": 8,
      "outputs": []
    },
    {
      "cell_type": "markdown",
      "metadata": {
        "id": "1s6jzE1u7M4c"
      },
      "source": [
        "You will need to download the following [files](https://www.dropbox.com/sh/fvj6x0yxy6lpy6x/AAAb4Ufph_QgN3zlRBMAyyaqa?dl=0) and upload them to colab using the following code block."
      ]
    },
    {
      "cell_type": "code",
      "metadata": {
        "id": "4gXlHZjn4wXF",
        "colab": {
          "resources": {
            "http://localhost:8080/nbextensions/google.colab/files.js": {
              "data": "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",
              "ok": true,
              "headers": [
                [
                  "content-type",
                  "application/javascript"
                ]
              ],
              "status": 200,
              "status_text": ""
            }
          },
          "base_uri": "https://localhost:8080/",
          "height": 174
        },
        "outputId": "a455870d-7e28-411b-c6ba-5f0bfe38f09a"
      },
      "source": [
        "hmm = files.upload()\n",
        "for k, v in hmm.items():\n",
        "    hmm[k] = v.decode(\"utf-8\").split(\"\\n\")"
      ],
      "execution_count": 3,
      "outputs": [
        {
          "output_type": "display_data",
          "data": {
            "text/html": [
              "\n",
              "     <input type=\"file\" id=\"files-92f8c109-e45c-4993-aca7-4b24bc630d62\" name=\"files[]\" multiple disabled\n",
              "        style=\"border:none\" />\n",
              "     <output id=\"result-92f8c109-e45c-4993-aca7-4b24bc630d62\">\n",
              "      Upload widget is only available when the cell has been executed in the\n",
              "      current browser session. Please rerun this cell to enable.\n",
              "      </output>\n",
              "      <script src=\"/nbextensions/google.colab/files.js\"></script> "
            ],
            "text/plain": [
              "<IPython.core.display.HTML object>"
            ]
          },
          "metadata": {}
        },
        {
          "output_type": "stream",
          "name": "stdout",
          "text": [
            "Saving hmmgen to hmmgen\n",
            "Saving mystery1 to mystery1\n",
            "Saving mystery2 to mystery2\n",
            "Saving mystery3 to mystery3\n"
          ]
        }
      ]
    },
    {
      "cell_type": "markdown",
      "metadata": {
        "id": "I4L4PgNA4aQ6"
      },
      "source": [
        "**C) Run the following code block to apply your Viterbi implementation to the data file `hmmgen`, which was generated using the same HMM, and verify that your program achieves 83% accuracy.**"
      ]
    },
    {
      "cell_type": "code",
      "metadata": {
        "id": "cSC8oZo_8sc9",
        "colab": {
          "base_uri": "https://localhost:8080/",
          "height": 800
        },
        "outputId": "43d000d6-999b-4bfe-e796-9958db50ab7a"
      },
      "source": [
        "seq = [base_idx[bp] for bp in hmm['hmmgen'][0]]\n",
        "ref = [state_idx[ann] for ann in hmm['hmmgen'][1]]\n",
        "test = viterbi(seq)\n",
        "\n",
        "print_summary(seq, ref, test)"
      ],
      "execution_count": 9,
      "outputs": [
        {
          "output_type": "stream",
          "name": "stdout",
          "text": [
            "Authoritative annotation statistics\n",
            "-----------------------------------\n",
            "High-GC mean region length:  100\n",
            "High-GC base composition:  A=20.01% G=29.87% C=30.02% T=20.10%\n",
            "Low-GC mean region length:  102\n",
            "Low-GC base composition:  A=29.63% G=19.94% C=20.20% T=30.23%\n"
          ]
        },
        {
          "output_type": "display_data",
          "data": {
            "image/png": "[encoded data removed]",
            "text/plain": [
              "<Figure size 432x288 with 2 Axes>"
            ]
          },
          "metadata": {
            "needs_background": "light"
          }
        },
        {
          "output_type": "stream",
          "name": "stdout",
          "text": [
            "\n",
            "Viterbi annotation statistics\n",
            "-----------------------------------\n",
            "High-GC mean region length:  140\n",
            "High-GC base composition:  A=18.97% G=30.79% C=31.10% T=19.14%\n",
            "Low-GC mean region length:  135\n",
            "Low-GC base composition:  A=30.99% G=18.70% C=18.80% T=31.51%\n"
          ]
        },
        {
          "output_type": "display_data",
          "data": {
            "image/png": "[encoded data removed]",
            "text/plain": [
              "<Figure size 432x288 with 2 Axes>"
            ]
          },
          "metadata": {
            "needs_background": "light"
          }
        },
        {
          "output_type": "stream",
          "name": "stdout",
          "text": [
            "\n",
            "Accuracy: 86.468%\n"
          ]
        }
      ]
    },
    {
      "cell_type": "markdown",
      "metadata": {
        "id": "XSHJ-K-BWl4E"
      },
      "source": [
        "**D) The following code block applies your Viterbi implementation to 3 mystery files (`mystery1`, `mystery2`, and `mystery3`). How do the (correct) state duration distributions in the mystery sequences differ and what do they have in common? What accuracy levels does your HMM achieve on these sequences? How does each Viterbi-predicted state duration distribution differ from the correct distribution?**"
      ]
    },
    {
      "cell_type": "code",
      "metadata": {
        "id": "siMJel8FXpVD",
        "colab": {
          "base_uri": "https://localhost:8080/",
          "height": 1000
        },
        "outputId": "de4b5ad9-bfe8-492c-d86e-ec10c9196e20"
      },
      "source": [
        "for i in range(1, 4):\n",
        "    seq = [base_idx[bp] for bp in hmm['mystery' + str(i)][0]]\n",
        "    ref = [state_idx[ann] for ann in hmm['mystery' + str(i)][1]]\n",
        "    test = viterbi(seq)\n",
        "    print_summary(seq, ref, test)\n",
        "    print(\"\\n\")"
      ],
      "execution_count": 10,
      "outputs": [
        {
          "output_type": "stream",
          "name": "stdout",
          "text": [
            "Authoritative annotation statistics\n",
            "-----------------------------------\n",
            "High-GC mean region length:  100\n",
            "High-GC base composition:  A=19.94% G=29.87% C=30.20% T=20.00%\n",
            "Low-GC mean region length:  101\n",
            "Low-GC base composition:  A=29.87% G=20.27% C=19.73% T=30.13%\n"
          ]
        },
        {
          "output_type": "display_data",
          "data": {
            "image/png": "[encoded data removed]",
            "text/plain": [
              "<Figure size 432x288 with 2 Axes>"
            ]
          },
          "metadata": {
            "needs_background": "light"
          }
        },
        {
          "output_type": "stream",
          "name": "stdout",
          "text": [
            "\n",
            "Viterbi annotation statistics\n",
            "-----------------------------------\n",
            "High-GC mean region length:  106\n",
            "High-GC base composition:  A=18.62% G=31.11% C=31.38% T=18.90%\n",
            "Low-GC mean region length:  98\n",
            "Low-GC base composition:  A=31.78% G=18.47% C=17.94% T=31.81%\n"
          ]
        },
        {
          "output_type": "display_data",
          "data": {
            "image/png": "[encoded data removed]",
            "text/plain": [
              "<Figure size 432x288 with 2 Axes>"
            ]
          },
          "metadata": {
            "needs_background": "light"
          }
        },
        {
          "output_type": "stream",
          "name": "stdout",
          "text": [
            "\n",
            "Accuracy: 84.097%\n",
            "\n",
            "\n",
            "Authoritative annotation statistics\n",
            "-----------------------------------\n",
            "High-GC mean region length:  100\n",
            "High-GC base composition:  A=19.85% G=29.78% C=30.07% T=20.30%\n",
            "Low-GC mean region length:  100\n",
            "Low-GC base composition:  A=29.84% G=19.86% C=19.99% T=30.31%\n"
          ]
        },
        {
          "output_type": "display_data",
          "data": {
            "image/png": "[encoded data removed]",
            "text/plain": [
              "<Figure size 432x288 with 2 Axes>"
            ]
          },
          "metadata": {
            "needs_background": "light"
          }
        },
        {
          "output_type": "stream",
          "name": "stdout",
          "text": [
            "\n",
            "Viterbi annotation statistics\n",
            "-----------------------------------\n",
            "High-GC mean region length:  102\n",
            "High-GC base composition:  A=18.51% G=31.12% C=31.48% T=18.89%\n",
            "Low-GC mean region length:  94\n",
            "Low-GC base composition:  A=31.69% G=18.00% C=18.06% T=32.24%\n"
          ]
        },
        {
          "output_type": "display_data",
          "data": {
            "image/png": "[encoded data removed]",
            "text/plain": [
              "<Figure size 432x288 with 2 Axes>"
            ]
          },
          "metadata": {
            "needs_background": "light"
          }
        },
        {
          "output_type": "stream",
          "name": "stdout",
          "text": [
            "\n",
            "Accuracy: 84.089%\n",
            "\n",
            "\n",
            "Authoritative annotation statistics\n",
            "-----------------------------------\n",
            "High-GC mean region length:  100\n",
            "High-GC base composition:  A=19.81% G=29.71% C=30.56% T=19.91%\n",
            "Low-GC mean region length:  100\n",
            "Low-GC base composition:  A=29.56% G=20.09% C=20.11% T=30.24%\n"
          ]
        },
        {
          "output_type": "display_data",
          "data": {
            "image/png": "[encoded data removed]",
            "text/plain": [
              "<Figure size 432x288 with 2 Axes>"
            ]
          },
          "metadata": {
            "needs_background": "light"
          }
        },
        {
          "output_type": "stream",
          "name": "stdout",
          "text": [
            "\n",
            "Viterbi annotation statistics\n",
            "-----------------------------------\n",
            "High-GC mean region length:  104\n",
            "High-GC base composition:  A=18.63% G=31.08% C=31.74% T=18.55%\n",
            "Low-GC mean region length:  93\n",
            "Low-GC base composition:  A=31.44% G=18.01% C=18.19% T=32.37%\n"
          ]
        },
        {
          "output_type": "display_data",
          "data": {
            "image/png": "[encoded data removed]",
            "text/plain": [
              "<Figure size 432x288 with 2 Axes>"
            ]
          },
          "metadata": {
            "needs_background": "light"
          }
        },
        {
          "output_type": "stream",
          "name": "stdout",
          "text": [
            "\n",
            "Accuracy: 82.504%\n",
            "\n",
            "\n"
          ]
        }
      ]
    },
    {
      "cell_type": "markdown",
      "metadata": {
        "id": "16wK1v-RhTfw"
      },
      "source": [
        "**E) Would re-training the HMM parameters according to the procedure described in lecture, using the correct annotations as training data, improve the accuracy of the Viterbi annotation for the mystery sequences? Why or why not?**\n",
        "\n",
        "**(Extra credit) Try to make the decoder perform better by adjusting the hard-coded model parameters. If you succeed, can you explain why?**"
      ]
    },
    {
      "cell_type": "markdown",
      "metadata": {
        "id": "NiYzQ7PbhffH"
      },
      "source": [
        "Training the HMM parameters on the hmmgen file would not help the annotation on the mystery files because their length distributions for High-GC and Low-GC regions differ dramatically from the hmmgen file. Retraining the HMM parameters on the authoritative annotation for the mystery files may not even help, since each mystery file has drastically different state duration distributions and will be unlikely to contribute to a better prediction.\n",
        "\n",
        "Extra Credit: I improved the decoder by increasing the frequency of state transitions, since I noticed the Viterbi region lengths were consistently longer than that of the authoritative annotation, based on the mean length alone."
      ]
    },
    {
      "cell_type": "markdown",
      "metadata": {
        "id": "IzB4R0mwhi5S"
      },
      "source": [
        "**F) As you are now aware, the length distribution of genomic elements can strongly affect the predictive accuracy of an HMM used to decode them. Unfortunately, most elements in real genomes do not follow the length distribution you derived in part (A). By reading the following paper (or any other sources), describe how the gene under GENSCAN addresses this issue. How is it possible, algorithmically, to use state duration distributions that differ from the one you derived in part (A)?**\n",
        "\n",
        "**Burge C, Karlin S. Prediction of complete gene structures in human genomic DNA. J Mol Bio 268(1):78-94, 1997.**"
      ]
    },
    {
      "cell_type": "markdown",
      "metadata": {
        "id": "Nl5kgxLgh02u"
      },
      "source": [
        "GENSCAN classifies and trains its model based on the structure and sequence of elements of genomic sequences (e.g. promoter, single exon gene, multi-exon gene, intergenic region), specifying which transitions are possible, and trains on both forwards and reverse strands, the latter of which simply uses the reversed sequence of state transitions possible. Algorithmically, the supervised model chooses initial state probabilities based on GC composition, divided into four categories, each of which has different probabilities of intergenic, intron, 5'UTR, and 3'UTR segments, calculated from a labeled set of training data. Transitions consist of those which are obligatory with a probability of 1, such as promoter to 5'UTR, and those which have some observed likelihood based on the GC category. State duration probabilities are modeled by geometric distributions differentiated by GC category. Additionally, exon lengths are calculated by number of whole codons returned by the length distribution and the adjacent intron phases, denoting the relation of an intron to the codon(s) it interrupts."
      ]
    },
    {
      "cell_type": "markdown",
      "metadata": {
        "id": "DA_3yVFyhXoW"
      },
      "source": [
        "#No extra problems for 6.878"
      ]
    }
  ]
}