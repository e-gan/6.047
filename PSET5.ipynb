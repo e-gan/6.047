{
  "nbformat": 4,
  "nbformat_minor": 0,
  "metadata": {
    "colab": {
      "name": "PSET5.ipynb",
      "provenance": [],
      "collapsed_sections": [
        "bXRLd25OKuCf",
        "TBFZarclPt4o",
        "Ji7qMAIt4-qc",
        "2zNo6g0JDEnu"
      ]
    },
    "kernelspec": {
      "name": "python3",
      "display_name": "Python 3"
    }
  },
  "cells": [
    {
      "cell_type": "markdown",
      "metadata": {
        "id": "bXRLd25OKuCf"
      },
      "source": [
        "# **6.047 | 6.878 | HST.507**\n",
        "\n",
        "#**Fall 2021 Problem Set 5: Clustering Phylogenetic Trees**\n",
        "\n",
        "Due: Friday, November 19 at 11:59PM (submit copy of notebook to Stellar)"
      ]
    },
    {
      "cell_type": "markdown",
      "metadata": {
        "id": "TBFZarclPt4o"
      },
      "source": [
        "#Load libraries\n"
      ]
    },
    {
      "cell_type": "markdown",
      "metadata": {
        "id": "qcntKfkrN-4T"
      },
      "source": [
        "Feel free to import any additional libraries here."
      ]
    },
    {
      "cell_type": "code",
      "metadata": {
        "id": "IMjjMM_QPrUz"
      },
      "source": [
        "from google.colab import files"
      ],
      "execution_count": 2,
      "outputs": []
    },
    {
      "cell_type": "markdown",
      "metadata": {
        "id": "Ji7qMAIt4-qc"
      },
      "source": [
        "# Clustering Phylogenetic Trees\n",
        "\n",
        "We've seen that phylogenetic tree algorithms can construct *many* different \"good\" putative evolutionary histories. An important and challenging problem is that of reducing a large number of trees to a smaller number of representative solutions. The objective of this assignment is to explore techniques for dealing\n",
        "with large sets of different phylogenetic trees for the same data. This assignment is inspired by the paper [Statistically based postprocessing of phylogenetic analysis by clustering](https://www.ncbi.nlm.nih.gov/pubmed/12169558.) by Cara Stockham, Li-San Wang, and Tandy Warnow (Bioinformatics, Vol 18, Suppl. 1, 2002, pp. S285-S293). This problem is due\n",
        "to Ran Libeskind-Hadas. The full details are available at the URL below:\n",
        "\n",
        "http://www.cs.hmc.edu/~hadas/mitcompbio/treedistance.html"
      ]
    },
    {
      "cell_type": "markdown",
      "metadata": {
        "id": "MIzMHwWgLRDC"
      },
      "source": [
        "You will need to download the following [files](https://www.dropbox.com/sh/94bcsf8hxer11fq/AABqiZjDqHgMHbwJhor7hR5Ja?dl=0) and upload them to colab using the following code block."
      ]
    },
    {
      "cell_type": "code",
      "metadata": {
        "id": "jRrT6-qvLW1d",
        "colab": {
          "resources": {
            "http://localhost:8080/nbextensions/google.colab/files.js": {
              "data": "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",
              "ok": true,
              "headers": [
                [
                  "content-type",
                  "application/javascript"
                ]
              ],
              "status": 200,
              "status_text": ""
            }
          },
          "base_uri": "https://localhost:8080/",
          "height": 72
        },
        "outputId": "d617743a-1072-4ff6-ad71-e50c73b4dc2b"
      },
      "source": [
        "caesal = files.upload()\n",
        "from Caesal import *"
      ],
      "execution_count": 3,
      "outputs": [
        {
          "output_type": "display_data",
          "data": {
            "text/html": [
              "\n",
              "     <input type=\"file\" id=\"files-fed76454-da41-41b4-bfa7-94288c789cdb\" name=\"files[]\" multiple disabled\n",
              "        style=\"border:none\" />\n",
              "     <output id=\"result-fed76454-da41-41b4-bfa7-94288c789cdb\">\n",
              "      Upload widget is only available when the cell has been executed in the\n",
              "      current browser session. Please rerun this cell to enable.\n",
              "      </output>\n",
              "      <script src=\"/nbextensions/google.colab/files.js\"></script> "
            ],
            "text/plain": [
              "<IPython.core.display.HTML object>"
            ]
          },
          "metadata": {}
        },
        {
          "output_type": "stream",
          "name": "stdout",
          "text": [
            "Saving Caesal.py to Caesal.py\n"
          ]
        }
      ]
    },
    {
      "cell_type": "markdown",
      "metadata": {
        "id": "7asIx9MH6aAb"
      },
      "source": [
        "A) Implement the *Robinson-Foulds* distance metric."
      ]
    },
    {
      "cell_type": "code",
      "metadata": {
        "id": "T0ca4hFfLHop"
      },
      "source": [
        "import random\n",
        "\"\"\"\n",
        "Returns distance between two phylogenetic trees\n",
        "\n",
        "Arguments:\n",
        "    tree1 - first list of lists or tuple of tuples, with integer member elements\n",
        "    tree2 - second list of lists or tuple of tuples, with integer member elements\n",
        "Returns:\n",
        "    dist - integer distance between 'tree1' and 'tree2'\n",
        "    \"\"\"\n",
        "class Node(object):\n",
        "    def __init__(self,value,parent=None) -> None:\n",
        "        self.value=value\n",
        "        self.parent = parent\n",
        "        self.left = None\n",
        "        self.right = None\n",
        "\n",
        "    def traverse(self):\n",
        "        left = self.left.traverse() if self.left else []\n",
        "        right = self.right.traverse() if self.right else []\n",
        "        if self.left is None and self.right is None:\n",
        "          return left + [self.value] + right\n",
        "        else:\n",
        "          return left+right\n",
        "\n",
        "def construct(tree,parent=None):\n",
        "    x=Node(value=None,parent=parent)\n",
        "    if type(tree[0]) is int:\n",
        "      x.left=Node(value=tree[0],parent=x)\n",
        "    else:\n",
        "      x.left=construct(tree[0],parent=x)\n",
        "\n",
        "    if type(tree[1]) is int:\n",
        "      x.right=Node(value=tree[1],parent=x)\n",
        "    else:\n",
        "      x.right=construct(tree[1],parent=x)\n",
        "    return x\n",
        "\n",
        "def partitions(tree, bits, d=None):\n",
        "    if d is None:\n",
        "      d={}\n",
        "    label=None\n",
        "    if tree.left.value is not None and tree.right.value is not None:\n",
        "      label=bits[tree.left.value]^bits[tree.right.value]\n",
        "    elif tree.left.value is not None:\n",
        "      subtree_label, d=partitions(tree.right,bits,d)\n",
        "      label=bits[tree.left.value]^subtree_label\n",
        "    elif tree.right.value is not None:\n",
        "      subtree_label, d=partitions(tree.left,bits,d)\n",
        "      label=subtree_label^bits[tree.right.value]\n",
        "    else:\n",
        "      left_subtree_label, d=partitions(tree.left,bits,d)\n",
        "      right_subtree_label, d=partitions(tree.right,bits,d)\n",
        "      label=left_subtree_label^right_subtree_label\n",
        "    d.setdefault(label,0)\n",
        "    d[label]+=1\n",
        "    return label, d\n",
        "\n",
        "\n",
        "def distance(tree1, tree2):\n",
        "    dist=0\n",
        "    t1=construct(tree1)\n",
        "    t2=construct(tree2)\n",
        "\n",
        "    #label each leaf\n",
        "    agenda=t1.traverse()\n",
        "    lookup={}\n",
        "    for i in agenda:\n",
        "      lookup[i]=random.randint(1,100000)\n",
        "\n",
        "    #find partitions each tree and compute differences\n",
        "    _,d=partitions(t1,lookup)\n",
        "    _,d2=partitions(t2,lookup)\n",
        "    for key in d2:\n",
        "      if key not in d:\n",
        "        dist+=1\n",
        "\n",
        "    return dist\n"
      ],
      "execution_count": 72,
      "outputs": []
    },
    {
      "cell_type": "markdown",
      "metadata": {
        "id": "6h-WJvizNroV"
      },
      "source": [
        "These are the test cases for your `distance` function."
      ]
    },
    {
      "cell_type": "code",
      "metadata": {
        "id": "OFq-9KVpNH3s"
      },
      "source": [
        "def test_distance():\n",
        "    T1 = (0, (1, (2, (3, 4))))\n",
        "    T2 = (0, (1, (3, (2, 4))))\n",
        "    print(\"Expected: 1\\tOutput: \" + str(distance(T1, T2)))\n",
        "    T3 = (0, ((1, (2, 3)), (7, (6, (4, 5)))))\n",
        "    T4 = (0, ((2, (1, 3)), (6, (4, (5, 7)))))\n",
        "    print(\"Expected: 3\\tOutput: \" + str(distance(T3, T4)))\n",
        "    print(\"Expected: 8\\tOutput: \" + str(distance(treeList[0], treeList[42])))\n",
        "    print(\"Expected: 3\\tOutput: \" + str(distance(treeList[57], treeList[77])))\n",
        "    print(\"Expected: 1\\tOutput: \" + str(distance(treeList[192], treeList[200])))\n",
        "    print(\"Expected: 4\\tOutput: \" + str(distance(treeList[386], treeList[234])))"
      ],
      "execution_count": 18,
      "outputs": []
    },
    {
      "cell_type": "code",
      "metadata": {
        "id": "0m1y4XWwNV1H",
        "colab": {
          "base_uri": "https://localhost:8080/"
        },
        "outputId": "3a3de943-459c-4cbf-de9a-854559608b63"
      },
      "source": [
        "test_distance()"
      ],
      "execution_count": 47,
      "outputs": [
        {
          "output_type": "stream",
          "name": "stdout",
          "text": [
            "Expected: 1\tOutput: 1\n",
            "Expected: 3\tOutput: 3\n",
            "Expected: 8\tOutput: 8\n",
            "Expected: 3\tOutput: 3\n",
            "Expected: 1\tOutput: 1\n",
            "Expected: 4\tOutput: 4\n"
          ]
        }
      ]
    },
    {
      "cell_type": "markdown",
      "metadata": {
        "id": "1eO6gwjMOMch"
      },
      "source": [
        "B) You will use a clustering algorithm to partition distinct phylogenetic trees into clusters of trees where the trees in a given cluster are similar with respect to *Robinson-Foulds* distance. (Hint: take note of their hint for speeding up the *Robinson-Foulds* distance calculations!)"
      ]
    },
    {
      "cell_type": "code",
      "metadata": {
        "id": "OX3xFvPKOXDP"
      },
      "source": [
        "\"\"\"\n",
        "Return each clustering step from 'maxClusters' to 'minClusters' size from input 'treeList'\n",
        "\n",
        "Arguments:\n",
        "    treeList - list of all trees to cluster\n",
        "    minClusters - integer size of minimum number of clusters\n",
        "    maxClusters - integer size of maximum number of clusters\n",
        "Returns:\n",
        "    clusterings - list of clusters with information on numbers of trees, diameters (Robinson-Foulds distance), and average diameter\n",
        "        [[[numbers of trees], [diameters], average diameter],   <- max number of clusters\n",
        "         .\n",
        "         .\n",
        "         .\n",
        "         [[numbers of trees], [diameters], average diameter]]   <- min number of clusters\n",
        "\"\"\"\n",
        "def cluster(treeList, minClusters, maxClusters):\n",
        "    #make agenda (clusters), pairwise distances between clusters, and store all pairwise tree distances\n",
        "    agenda=[[i,[i],0] for i in treeList]\n",
        "    dist={}\n",
        "    d=[]\n",
        "    for i in range(len(treeList)):\n",
        "      for j in range(len(treeList)):\n",
        "        dist.setdefault(treeList[i],{})\n",
        "        dist[treeList[i]][treeList[j]]=distance(treeList[i],treeList[j])\n",
        "        dist.setdefault(treeList[j],{})\n",
        "        dist[treeList[j]][treeList[i]]=distance(treeList[i],treeList[j])\n",
        "        if i!=j:\n",
        "          d.append([(treeList[i],treeList[j]),[treeList[i],treeList[j]],distance(treeList[i],treeList[j])])\n",
        "\n",
        "    d.sort(reverse=True,key=lambda x: x[2])\n",
        "    clusterings=[]\n",
        "\n",
        "    #cluster\n",
        "    while len(agenda)>minClusters:\n",
        "      if len(agenda)<=maxClusters:\n",
        "        clusterings.append([[],[],None])\n",
        "        clusterings[-1][0]=[len(i[1]) for i in agenda]\n",
        "        clusterings[-1][1]=[i[2] for i in agenda]\n",
        "        clusterings[-1][2]=sum(clusterings[-1][1])/len(clusterings[-1][0])\n",
        "\n",
        "      cluster=d.pop()\n",
        "      clust=cluster[0]\n",
        "      trees=cluster[1]\n",
        "      cluster_diameter=0\n",
        "\n",
        "      for i in range(len(cluster[1])):\n",
        "        for j in range(i):\n",
        "          if dist[cluster[1][i]][cluster[1][j]]>cluster_diameter:\n",
        "            cluster_diameter=dist[cluster[1][i]][cluster[1][j]]\n",
        "\n",
        "      new_clust=[clust,trees,cluster_diameter]\n",
        "\n",
        "      agenda=[i for i in agenda if (i[0]!=new_clust[0][0] and i[0]!=new_clust[0][1])]\n",
        "      d=[i for i in d if (new_clust[0][0] not in i[0] and new_clust[0][1] not in i[0])]\n",
        "\n",
        "      for i in agenda:\n",
        "        s=0\n",
        "        for x in i[1]:\n",
        "          for y in new_clust[1]:\n",
        "            s+=dist[x][y]\n",
        "        d.append([(i[0],new_clust[0]),i[1]+new_clust[1],s/(len(new_clust[1])*len(i[1]))])\n",
        "\n",
        "      agenda.append(new_clust)\n",
        "      d.sort(reverse=True,key=lambda x: x[2])\n",
        "\n",
        "    if len(agenda)<=maxClusters:\n",
        "      clusterings.append([[],[],None])\n",
        "      clusterings[-1][0]=[len(i[1]) for i in agenda]\n",
        "      clusterings[-1][1]=[i[2] for i in agenda]\n",
        "      clusterings[-1][2]=sum(clusterings[-1][1])/len(clusterings[-1][0])\n",
        "    return clusterings\n"
      ],
      "execution_count": 44,
      "outputs": []
    },
    {
      "cell_type": "markdown",
      "metadata": {
        "id": "BlpZsYxJOg1R"
      },
      "source": [
        "These are the test cases for your `cluster` function."
      ]
    },
    {
      "cell_type": "code",
      "metadata": {
        "id": "9nVeftQJOkeG"
      },
      "source": [
        "def test_cluster():\n",
        "    clusters = [[[3, 6, 3, 6, 2], [1, 2, 1, 2, 1], 1.4],\n",
        "                [[9, 3, 6, 2], [2, 1, 2, 1], 1.5],\n",
        "                [[9, 9, 2], [2, 3, 1], 2],\n",
        "                [[18, 2], [5, 1], 3],\n",
        "                [[20], [7], 7]]\n",
        "    for i, clust in enumerate(cluster(treeList[:20], 1, 5)):\n",
        "        print(\"Expected: \" + str(clusters[i]) + \"\\nOutput:   \" + str(clust))"
      ],
      "execution_count": 38,
      "outputs": []
    },
    {
      "cell_type": "code",
      "metadata": {
        "id": "6R3lDTC8JfEW",
        "colab": {
          "base_uri": "https://localhost:8080/"
        },
        "outputId": "3b2ea456-8086-40da-ddd8-55372fdd2fa8"
      },
      "source": [
        "test_cluster()"
      ],
      "execution_count": 45,
      "outputs": [
        {
          "output_type": "stream",
          "name": "stdout",
          "text": [
            "Expected: [[3, 6, 3, 6, 2], [1, 2, 1, 2, 1], 1.4]\n",
            "Output:   [[2, 3, 3, 6, 6], [1, 1, 1, 2, 2], 1.4]\n",
            "Expected: [[9, 3, 6, 2], [2, 1, 2, 1], 1.5]\n",
            "Output:   [[2, 3, 6, 9], [1, 1, 2, 2], 1.5]\n",
            "Expected: [[9, 9, 2], [2, 3, 1], 2]\n",
            "Output:   [[2, 9, 9], [1, 2, 3], 2.0]\n",
            "Expected: [[18, 2], [5, 1], 3]\n",
            "Output:   [[2, 18], [1, 5], 3.0]\n",
            "Expected: [[20], [7], 7]\n",
            "Output:   [[20], [7], 7.0]\n"
          ]
        }
      ]
    },
    {
      "cell_type": "markdown",
      "metadata": {
        "id": "S0hvjn5JMGLu"
      },
      "source": [
        "C) You will implement a general consensus algorithm that will allow you to find a consensus tree for each cluster and measure the quality of the cluster by its \"specificity\" (how close it is to being a binary tree)."
      ]
    },
    {
      "cell_type": "code",
      "metadata": {
        "id": "QfZWz-sTMRgP"
      },
      "source": [
        "\"\"\"\n",
        "Calculate the specificity of 'cluster' given a target 'threshold'\n",
        "\n",
        "Arguments:\n",
        "    cluster - list of trees\n",
        "    threshold - float value of threshold\n",
        "Returns:\n",
        "    spec - float specificity of 'cluster' given 'threshold'\n",
        "\"\"\"\n",
        "def specificity(cluster, threshold):\n",
        "    #label each leaf\n",
        "    t=construct(cluster[0])\n",
        "    agenda=t.traverse()\n",
        "    lookup={}\n",
        "    for i in agenda:\n",
        "      lookup[i]=random.randint(1,100000)\n",
        "\n",
        "    d={}\n",
        "    for tree in cluster:\n",
        "      t=construct(tree)\n",
        "      _,d=partitions(t,lookup,d)\n",
        "\n",
        "    consensus=0\n",
        "    for partition in d:\n",
        "      if d[partition]/len(cluster)>=threshold:\n",
        "        consensus+=1\n",
        "        \n",
        "    spec=(consensus-2)/(len(agenda)-3)\n",
        "    return spec"
      ],
      "execution_count": 89,
      "outputs": []
    },
    {
      "cell_type": "markdown",
      "metadata": {
        "id": "CrgV0M7hMe9y"
      },
      "source": [
        "These are the test cases for your `specificity` function."
      ]
    },
    {
      "cell_type": "code",
      "metadata": {
        "id": "pqCbd5jjMmFr"
      },
      "source": [
        "def test_specificity():\n",
        "    print(\"Expected: 0.77083\\tOutput: \" + str(specificity(treeList, 1.0)))\n",
        "    print(\"Expected: 0.91667\\tOutput: \" + str(specificity(treeList, 0.51)))"
      ],
      "execution_count": 49,
      "outputs": []
    },
    {
      "cell_type": "code",
      "metadata": {
        "id": "pJsDVVfHMmIA",
        "colab": {
          "base_uri": "https://localhost:8080/"
        },
        "outputId": "c3a2fab5-40f1-4f2e-81b9-75b6e3c3421b"
      },
      "source": [
        "test_specificity()"
      ],
      "execution_count": 90,
      "outputs": [
        {
          "output_type": "stream",
          "name": "stdout",
          "text": [
            "Expected: 0.77083\tOutput: 0.7708333333333334\n",
            "Expected: 0.91667\tOutput: 0.9166666666666666\n"
          ]
        }
      ]
    },
    {
      "cell_type": "markdown",
      "metadata": {
        "id": "2zNo6g0JDEnu"
      },
      "source": [
        "# (6.878 only) Coalescent simulation\n",
        "\n",
        "In this problem, we will simulate the coalescent process. Recall that this is the time-reversal of the Wright-Fisher process."
      ]
    },
    {
      "cell_type": "markdown",
      "metadata": {
        "id": "lMSXGwj1vD02"
      },
      "source": [
        "A) Write a program to simulate the coalescent process on a population of $2N$ alleles. Track the times of coalescent events starting from the initial generation until all alleles coalesce to a single ancestor. If we are tracking $k$ lineages, you should report $k - 1$ coalescent events.\n",
        "\n",
        "Recall that the Wright-Fisher process assumes each allele in the next generation is sampled independently from all alleles in the current generation. We are now interested in the reverse, so we instead need to sample parents in the previous generation uniformly at random with replacement. Note that we are interested in the identities of the parents and not their ancestral alleles.\n",
        "\n",
        "Run 1,000 trials with a population size of $N = 500$. Report the mean and standard deviation of the number of generations between coalescent events for $k = 2$, $3$, $4$ and $5$ lineages."
      ]
    },
    {
      "cell_type": "code",
      "metadata": {
        "id": "TiSyRzAEvchQ"
      },
      "source": [
        "### YOUR CODE HERE ###"
      ],
      "execution_count": null,
      "outputs": []
    },
    {
      "cell_type": "markdown",
      "metadata": {
        "id": "GbHCUIC3vf6r"
      },
      "source": [
        "**Answer here:**\n",
        "\n",
        "|Lineages|Mean|Standard Deviation|\n",
        "|-|-|-|\n",
        "|2|||\n",
        "|3|||\n",
        "|4|||\n",
        "|5|||"
      ]
    },
    {
      "cell_type": "markdown",
      "metadata": {
        "id": "DGTcFFGmwGDs"
      },
      "source": [
        "B) Recall the waiting time between coalescent events is approximately exponentially distributed with parameter $\\lambda$. For each value of $k$, what is the value of $\\lambda$ given $N = 500$?\n",
        "\n",
        "Assuming this distribution, the mean waiting time and its standard deviation are both $\\frac{1}{\\lambda}$. How do these expected values compare to your observed values? If your observed values are different, give an explanation of what could have caused the differences."
      ]
    },
    {
      "cell_type": "markdown",
      "metadata": {
        "id": "JL5NM9dGwicH"
      },
      "source": [
        "**Answer here:**\n",
        "\n",
        "|Lineages|$\\lambda$|$\\frac{1}{\\lambda}$|\n",
        "|-|-|-|\n",
        "|2|||\n",
        "|3|||\n",
        "|4|||\n",
        "|5|||"
      ]
    },
    {
      "cell_type": "markdown",
      "metadata": {
        "id": "sf-esvM5wwDl"
      },
      "source": [
        "C) Extend your simulator to model sexual reproduction.\n",
        "\n",
        "Assume a fixed number of females $F$ (and therefore $M = N - F$ males) in each generation and that each chromosome in the next generation is selected in the following way: sample a male and female to mate uniformly at random, then sample one of the two alleles uniformly at random. Your simulation should do\n",
        "the reverse: sample a father and mother and then pick one at random as the ancestor for each allele.\n",
        "\n",
        "Run 1,000 trials with $F = 100$ and $M = 400$. Do your results agree with the coalescent approximation? Justify your results.\n",
        "\n",
        "Can you extend the coalescent approximation to more accurately reflect this model of sexual reproduction? Do your results agree with this new approximation?"
      ]
    },
    {
      "cell_type": "code",
      "metadata": {
        "id": "jTNLD7PmxPz4"
      },
      "source": [
        "### YOUR CODE HERE ###"
      ],
      "execution_count": null,
      "outputs": []
    },
    {
      "cell_type": "markdown",
      "metadata": {
        "id": "ktNa0jnvxRFJ"
      },
      "source": [
        "**Answer here:**\n",
        "\n",
        "|Lineages|Mean|Standard Deviation|\n",
        "|-|-|-|\n",
        "|2|||\n",
        "|3|||\n",
        "|4|||\n",
        "|5|||"
      ]
    }
  ]
}