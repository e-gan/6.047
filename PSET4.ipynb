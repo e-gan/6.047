{
  "nbformat": 4,
  "nbformat_minor": 0,
  "metadata": {
    "colab": {
      "name": "PSET4.ipynb",
      "provenance": [],
      "collapsed_sections": [
        "bXRLd25OKuCf",
        "2G3R50W5C5Ul"
      ]
    },
    "kernelspec": {
      "name": "python3",
      "display_name": "Python 3"
    }
  },
  "cells": [
    {
      "cell_type": "markdown",
      "metadata": {
        "id": "bXRLd25OKuCf"
      },
      "source": [
        "# **6.047 | 6.878 | HST.507**\n",
        "\n",
        "#**Fall 2021 Problem Set 4: Alleles and Arrays**\n",
        "\n",
        "Due: Monday, November 8 at 11:59PM (submit copy of notebook to Stellar)"
      ]
    },
    {
      "cell_type": "markdown",
      "metadata": {
        "id": "TBFZarclPt4o"
      },
      "source": [
        "#Load libraries\n"
      ]
    },
    {
      "cell_type": "code",
      "metadata": {
        "id": "IMjjMM_QPrUz",
        "colab": {
          "base_uri": "https://localhost:8080/"
        },
        "outputId": "33cb451c-592d-44ea-a5bb-cff204493c18"
      },
      "source": [
        "from google.colab import files\n",
        "from sklearn.decomposition import PCA\n",
        "import matplotlib.pyplot as plt\n",
        "import pandas as pd\n",
        "import random\n",
        "import numpy as np\n",
        "import statsmodels.api as sm"
      ],
      "execution_count": 2,
      "outputs": [
        {
          "output_type": "stream",
          "name": "stderr",
          "text": [
            "/usr/local/lib/python3.7/dist-packages/statsmodels/tools/_testing.py:19: FutureWarning: pandas.util.testing is deprecated. Use the functions in the public API at pandas.testing instead.\n",
            "  import pandas.util.testing as tm\n"
          ]
        }
      ]
    },
    {
      "cell_type": "markdown",
      "metadata": {
        "id": "2G3R50W5C5Ul"
      },
      "source": [
        "# Finding eQTLs\n",
        "\n",
        "In this problem, we will examine the sources of variation in gene expression that partition a population into subpopulations."
      ]
    },
    {
      "cell_type": "markdown",
      "metadata": {
        "id": "mZX1IeJ2ESID"
      },
      "source": [
        "You will need to download the following [files](https://www.dropbox.com/sh/csmgittpy4ub15t/AABnqBgWYKwiFzUVPCpTPE_Qa?dl=0) and upload them to colab using the following code block."
      ]
    },
    {
      "cell_type": "code",
      "metadata": {
        "id": "iUggwEjTEwLJ",
        "colab": {
          "resources": {
            "http://localhost:8080/nbextensions/google.colab/files.js": {
              "data": "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",
              "ok": true,
              "headers": [
                [
                  "content-type",
                  "application/javascript"
                ]
              ],
              "status": 200,
              "status_text": ""
            }
          },
          "base_uri": "https://localhost:8080/",
          "height": 106
        },
        "outputId": "dadbd0b9-bf18-49bf-f476-1759e7383b0e"
      },
      "source": [
        "eQTLs = files.upload()"
      ],
      "execution_count": 4,
      "outputs": [
        {
          "output_type": "display_data",
          "data": {
            "text/html": [
              "\n",
              "     <input type=\"file\" id=\"files-0c1c39f6-796a-4fb3-800a-2edb6830b18f\" name=\"files[]\" multiple disabled\n",
              "        style=\"border:none\" />\n",
              "     <output id=\"result-0c1c39f6-796a-4fb3-800a-2edb6830b18f\">\n",
              "      Upload widget is only available when the cell has been executed in the\n",
              "      current browser session. Please rerun this cell to enable.\n",
              "      </output>\n",
              "      <script src=\"/nbextensions/google.colab/files.js\"></script> "
            ],
            "text/plain": [
              "<IPython.core.display.HTML object>"
            ]
          },
          "metadata": {}
        },
        {
          "output_type": "stream",
          "name": "stdout",
          "text": [
            "Saving ExpData.txt to ExpData (1).txt\n",
            "Saving SnpData.txt to SnpData.txt\n"
          ]
        }
      ]
    },
    {
      "cell_type": "markdown",
      "metadata": {
        "id": "V8Xkn10q4muZ"
      },
      "source": [
        "You are free to use the following function to help you process the raw `ExpData.txt` and `SnpData.txt` files."
      ]
    },
    {
      "cell_type": "code",
      "metadata": {
        "id": "PLIn-Ctxxl8C",
        "colab": {
          "base_uri": "https://localhost:8080/"
        },
        "outputId": "720c188e-b3f7-4044-bd29-208a744b37d0"
      },
      "source": [
        "# Processes *Data.txt files\n",
        "\"\"\"\n",
        "Example inp:\n",
        "    Patient Trait1 Trait2 Trait3\n",
        "    A 0.1 0.2 0.3\n",
        "    B 0.4 0.5 0.6\n",
        "    C 0.7 0.8 0.9\n",
        "\n",
        "process_file(inp, \"patient\")\n",
        "    [[0.1, 0.2, 0.3], [0.4, 0.5, 0.6], [0.7, 0.8, 0.9]]\n",
        "\n",
        "process_file(inp, \"trait\")\n",
        "    {\"Trait1\": [0.1, 0.4, 0.7], \"Trait2\": [0.2, 0.5, 0.8], \"Trait3\": [0.3, 0.6, 0.9]}\n",
        "\"\"\"\n",
        "def process_file(inp, mode):\n",
        "    rows = inp.decode(\"utf-8\").split(\"\\n\")\n",
        "    if mode == \"patient\":\n",
        "        return [[float(val) for val in row.split()[1:]] for row in rows[1:] if row]\n",
        "    elif mode == \"trait\":\n",
        "        res = pd.DataFrame([row.split()[1:] for row in rows if row])\n",
        "        res.columns = res.iloc[0]\n",
        "        return {k: [float(val) for val in v.values()] for k, v in res[1:].to_dict().items()}\n",
        "\n",
        "snp_patient=process_file(eQTLs[\"SnpData.txt\"], \"patient\")\n",
        "snp_trait=process_file(eQTLs[\"SnpData.txt\"], \"trait\")\n",
        "exp_patient=process_file(eQTLs[\"ExpData.txt\"], \"patient\")\n",
        "exp_trait=process_file(eQTLs[\"ExpData.txt\"], \"trait\")"
      ],
      "execution_count": 5,
      "outputs": [
        {
          "output_type": "stream",
          "name": "stderr",
          "text": [
            "/usr/local/lib/python3.7/dist-packages/ipykernel_launcher.py:22: UserWarning: DataFrame columns are not unique, some columns will be omitted.\n"
          ]
        }
      ]
    },
    {
      "cell_type": "markdown",
      "metadata": {
        "id": "grjnB8uu_Uk9"
      },
      "source": [
        "Use the following code block if you would like to process the raw `ExpData.txt` and `SnpData.txt` files in your own way."
      ]
    },
    {
      "cell_type": "code",
      "metadata": {
        "colab": {
          "base_uri": "https://localhost:8080/"
        },
        "id": "e7h1q51q_swO",
        "outputId": "7ddd7fe8-e3bd-438a-e02e-697ecec237de"
      },
      "source": [
        "print(snp_patient[0][:5])\n",
        "print(snp_trait['SNP_1'][:5])\n",
        "print(exp_patient[0][:5])\n",
        "print(exp_trait['Gene_RTH04'][:5])"
      ],
      "execution_count": 93,
      "outputs": [
        {
          "output_type": "stream",
          "name": "stdout",
          "text": [
            "[0.0, 1.0, 1.0, 1.0, 1.0]\n",
            "[0.0, 2.0, 1.0, 0.0, 1.0]\n",
            "[0.101569595067263, 0.436268619671374, -1.47429429012199, -0.900022560210903, 0.404890736265597]\n",
            "[0.101569595067263, -1.0120791077431, 1.27888075934562, -0.0907698240983281, 1.04783630384051]\n"
          ]
        }
      ]
    },
    {
      "cell_type": "markdown",
      "metadata": {
        "id": "OTvrpzsA_ezw"
      },
      "source": [
        "A) The `ExpData.txt` file contains log-normalized RNA-seq expression data from our population of 1,000 samples, with 5,000 genes profiled for each sample. Do a principal components analysis on this dataset to find the clusters of samples that have similar patterns of gene expression. Plot the output of your analysis.\n",
        "In your plots, be sure the axes are labeled with the components you are displaying in each plot. Also make sure that at least one of your plots colours the points corresponding to the samples with the sub-population that you think they should belong to. (Hint: You can re-use your $k$-means code from PSET 3 to find these sub-populations!)\n",
        "\n",
        "Describe the patterns that you observe. What is the structure inherent in this population?\n",
        "\n",
        "You may find the `matplotlib.pyplot` and `sklearn.decomposition.PCA` packages (already imported) to be useful."
      ]
    },
    {
      "cell_type": "code",
      "metadata": {
        "id": "p-o3df_e_4E5",
        "colab": {
          "base_uri": "https://localhost:8080/",
          "height": 312
        },
        "outputId": "2e64454e-50fc-4e03-c0cb-6f05d93c3ef6"
      },
      "source": [
        "def assignPoints(tbl, ctrs):\n",
        "    \"\"\"Assign each of the points in tbl to the cluster with center in ctrs\"\"\"\n",
        "\n",
        "    ptsAsgn = []\n",
        "    \n",
        "    for pt in tbl:\n",
        "      dist=float('inf')\n",
        "      c=None\n",
        "      for center in ctrs:\n",
        "        new=(((center[0]-pt[0])**2)+((center[1]-pt[1])**2))**(1/2)\n",
        "        if new<dist:\n",
        "          dist=new\n",
        "          c=center\n",
        "      ptsAsgn.append(c)\n",
        "\n",
        "    return ptsAsgn\n",
        "\n",
        "def recalculateCtrs(tbl, ctrs, ptsAsgn):\n",
        "    \"\"\"Update the centroids based on the points assigned to them\"\"\"\n",
        "\n",
        "    newCtrs = []\n",
        "    for center in ctrs:\n",
        "      coord=[0,0]\n",
        "      num=0\n",
        "      for i in range(len(tbl)):\n",
        "        if ptsAsgn[i]==center:\n",
        "          coord[0]+=tbl[i][0]\n",
        "          coord[1]+=tbl[i][1]\n",
        "          num+=1\n",
        "      if num!=0:\n",
        "        coord=[i/num for i in coord]\n",
        "        newCtrs.append(coord)\n",
        "\n",
        "    return newCtrs\n",
        "\n",
        "def run_kmeans(dataTable, title, x,y):\n",
        "    run_results=[[],[],[]]\n",
        "    for i in range(10):\n",
        "      \"\"\"initializes centroids, stop criterion and step counting for clustering\"\"\"\n",
        "      newCtrs = random.sample(dataTable,k=2)\n",
        "      ptMemb = assignPoints(dataTable, newCtrs)\n",
        "      stopCrit = False\n",
        "      stepCount = 0\n",
        "\n",
        "      \"\"\"performs k-means clustering, plotting the clusters at each step\"\"\"\n",
        "      while not stopCrit:\n",
        "          stepCount+=1\n",
        "          oldCtrs=newCtrs\n",
        "          newCtrs=recalculateCtrs(dataTable, newCtrs, ptMemb)\n",
        "          ptMemb=assignPoints(dataTable,newCtrs)\n",
        "\n",
        "          \"\"\"stop criterion - when centroids' total movement after a step is below\n",
        "              the threshold, stop the algorithm\"\"\"\n",
        "          stopDist = 0;\n",
        "          for i in range(len(newCtrs)):\n",
        "              stopDist += np.linalg.norm(np.array(oldCtrs[i]) - np.array(newCtrs[i]))\n",
        "          if stopDist < 5:\n",
        "              stopCrit = True\n",
        "\n",
        "      avg_dist=0\n",
        "      for ctr in newCtrs:\n",
        "        dist=0\n",
        "        num=0\n",
        "        for i in range(len(dataTable)):\n",
        "          if ptMemb[i]==ctr:\n",
        "            num+=1\n",
        "            dist+=((dataTable[i][0]-ctr[0])**2+(dataTable[i][1]-ctr[1])**2)**(1/2)\n",
        "        avg_dist+=(dist/num)\n",
        "      run_results[0].append(avg_dist)\n",
        "      run_results[1].append(ptMemb)\n",
        "      run_results[2].append(newCtrs)\n",
        "    \n",
        "    index=run_results[0].index(min(run_results[0]))\n",
        "    print('Optimal Clustering:')\n",
        "    plotClusters(dataTable, run_results[1][index], run_results[2][index], title, x, y)\n",
        "\n",
        "    membership={'cluster1': [], 'cluster2': []}\n",
        "    c1=run_results[1][index][0]\n",
        "    for i in range(len(dataTable)):\n",
        "      if run_results[1][index][i]==c1:\n",
        "        membership['cluster1'].append(i)\n",
        "      else:\n",
        "        membership['cluster2'].append(i)\n",
        "    return membership\n",
        "\n",
        "def plotClusters(tbl, ptMemb, cntrs, title, x, y):\n",
        "    \"\"\"Generate a scatterplot of the current k-means cluster assignments\"\"\"\n",
        "\n",
        "    pt_colors = [\"salmon\", \"lightgreen\", \"lightblue\",'pink','gray']\n",
        "    ctr_colors = [\"red\", \"green\", \"blue\",'hotpink','black']\n",
        "    for i in range(len(cntrs)):\n",
        "        pts = [tbl[j] for j in range(len(tbl)) if ptMemb[j] == cntrs[i]]\n",
        "        plt.scatter([pt[0] for pt in pts], [pt[1] for pt in pts], color = pt_colors[i], s = 10)\n",
        "        plt.scatter([cntrs[i][0]], [cntrs[i][1]], color = ctr_colors[i], s = 100, facecolors = \"none\")\n",
        "    plt.title(title)\n",
        "    plt.xlabel(x)\n",
        "    plt.ylabel(y)\n",
        "    plt.show()\n",
        "\n",
        "pca=PCA(n_components=2)\n",
        "pc_exp_patient=[list(i) for i in pca.fit_transform(exp_patient)]\n",
        "members=run_kmeans(pc_exp_patient, 'RNA Expression (per patient)', 'PCA1', 'PCA2')\n"
      ],
      "execution_count": 6,
      "outputs": [
        {
          "output_type": "stream",
          "name": "stdout",
          "text": [
            "Optimal Clustering:\n"
          ]
        },
        {
          "output_type": "display_data",
          "data": {
            "image/png": "[encoded data removed]",
            "text/plain": [
              "<Figure size 432x288 with 1 Axes>"
            ]
          },
          "metadata": {
            "needs_background": "light"
          }
        }
      ]
    },
    {
      "cell_type": "markdown",
      "metadata": {
        "id": "be_tG7A1Ce6P"
      },
      "source": [
        "The population is partitioned into two subpopulations, separated by PCA1."
      ]
    },
    {
      "cell_type": "markdown",
      "metadata": {
        "id": "SdomPnJXAosS"
      },
      "source": [
        "B) The `SnpData.txt` file contains genotyping data for the same 1,000 samples across 500 SNPs. Each SNP's genotype has been called with reference to the same reference genotype; \"0\" thus represents the reference allele, \"2\" represents the non-reference allele, and \"1\" represents a different allele on each strand.\n",
        "\n",
        "You will find that some of the SNPs (more than 5, less than 100) are eQTLs, that is, they have an effect on the expression of one or more of the genes we collected expression data for. Using whatever model you see fit, search for these eQTLs using the genotyping data and the expression data. **You may not have the computational resources to test all combinations of SNPs and genes, so you should think about smart ways to choose subsets of each to find some eQTLs - you don't have to find all of them!**\n",
        "\n",
        "For three of the eQTLs you found, present the evidence you have for why you think it is an eQTL, and not just associated with the expression of a gene by chance alone. *Be sure to include plots in your analysis to support your hypothesis, and to thoroughly explain the method you used to find eQTLs.* You can assume that the association between genotype and expression is linear for eQTLs. *Don't forget that you should be correcting for the fact that you are performing multiple significance tests.*"
      ]
    },
    {
      "cell_type": "code",
      "metadata": {
        "id": "yGrmm1P1BOXr",
        "colab": {
          "base_uri": "https://localhost:8080/"
        },
        "outputId": "f9e7a3a8-e697-4ec5-a752-76b46854954d"
      },
      "source": [
        "snp_t2=[]\n",
        "for snp in snp_trait:\n",
        "  number=np.mean(np.array(snp_trait[snp])/2)\n",
        "  if number>0.01 or (number<0.5 and (1-number)>0.01):\n",
        "    snp_t2.append(snp)\n",
        "\n",
        "exp_t2=[]\n",
        "for gene in exp_trait:\n",
        "  if np.sum(np.array(exp_trait[gene]))/1000>0.5:\n",
        "    exp_t2.append(gene)\n",
        "\n",
        "print(len(snp_t2),len(exp_t2))\n",
        "bonferroni=0.05/(len(snp_t2)*len(exp_t2))\n",
        "\n",
        "res={}\n",
        "for snp in snp_t2:\n",
        "  for gene in exp_t2:\n",
        "    X=np.array(snp_trait[snp])\n",
        "    Y=np.array(exp_trait[gene])\n",
        "    X=sm.add_constant(X)\n",
        "    reg=sm.OLS(Y,X).fit()\n",
        "    if reg.pvalues[1]<bonferroni and reg.f_pvalue<bonferroni:\n",
        "      res.setdefault(snp,[]).append((gene,reg.rsquared,reg.params))\n",
        "print(len(res))"
      ],
      "execution_count": 7,
      "outputs": [
        {
          "output_type": "stream",
          "name": "stdout",
          "text": [
            "500 71\n",
            "14\n"
          ]
        }
      ]
    },
    {
      "cell_type": "code",
      "metadata": {
        "colab": {
          "base_uri": "https://localhost:8080/",
          "height": 326
        },
        "id": "dKICiOyhbm3I",
        "outputId": "fe34c7fa-09f8-4a27-a99b-30643d4d34ed"
      },
      "source": [
        "L=[]\n",
        "for snp in res:\n",
        "  l=res[snp]\n",
        "  l.sort(reverse=True, key=lambda x: x[1])\n",
        "  gene,rsquared,params=l[0]\n",
        "  L.append((snp,gene,rsquared,params))\n",
        "\n",
        "L.sort(reverse=True,key=lambda x: x[2])\n",
        "\n",
        "fig,axes=plt.subplots(1,3, sharey=True)\n",
        "x=np.array([0,1,2])\n",
        "for i in range(3):\n",
        "  axes[i].scatter(snp_trait[L[i][0]],exp_trait[L[i][1]])\n",
        "  axes[i].plot(x,L[i][3][0]+L[i][3][1]*x, label=str(round(L[i][3][0],2))+\"+\"+str(round(L[i][3][1],2))+\"*x\")\n",
        "  axes[i].set_xlabel(L[i][0])\n",
        "  axes[i].set_ylabel(L[i][1])\n",
        "  axes[i].legend(loc='upper center')\n",
        "\n",
        "fig.suptitle('Predicted eQTLs')"
      ],
      "execution_count": 8,
      "outputs": [
        {
          "output_type": "execute_result",
          "data": {
            "text/plain": [
              "Text(0.5, 0.98, 'Predicted eQTLs')"
            ]
          },
          "metadata": {},
          "execution_count": 8
        },
        {
          "output_type": "display_data",
          "data": {
            "image/png": "[encoded data removed]",
            "text/plain": [
              "<Figure size 432x288 with 3 Axes>"
            ]
          },
          "metadata": {
            "needs_background": "light"
          }
        }
      ]
    },
    {
      "cell_type": "markdown",
      "metadata": {
        "id": "sdYloVfm_2EY"
      },
      "source": [
        "**Answer here:**\n",
        "\n",
        "eQTL 1: SNP 157\n",
        "\n",
        "eQTL 2: SNP 119\n",
        "\n",
        "eQTL 3: SNP 473\n",
        "\n",
        "I filtered the SNPs by MAF first, which did not end up removing any SNPs.\n",
        "I then filtered the genes by expression level, keeping genes with an average log expression over 0.5. I used the Bonferroni Correction to reset the p-value threshold based on the total number of SNP-gene comparisons, then ran a linear regression comparing each SNP to each gene, using the p-value of the slope and the F-test p-value to select SNP-gene pairs to keep. I selected the top three SNP-gene pairs based on R^2 values, then plotted them along with their linear regression lines."
      ]
    },
    {
      "cell_type": "markdown",
      "metadata": {
        "id": "tnY1F68vBcNi"
      },
      "source": [
        "C) In the above analysis, we were forced to consider all pairs of SNPs and genes to identify eQTLs. What sources of data that have not been provided as part of this problem would have been useful in constraining the amount of such pairs you had to test? For at least two sources:\n",
        "\n",
        "i. Give a description of what the dataset would look like (i.e. what are the rows and columns of the data matrix? what kinds of values are stored in the matrix?).\n",
        "\n",
        "ii. Explain how you would use it to filter out pairs of SNPs and genes that are unlikely to be associated with one another."
      ]
    },
    {
      "cell_type": "markdown",
      "metadata": {
        "id": "ZFnS3--PBiL0"
      },
      "source": [
        "Source 1: SNP-Gene proximity\n",
        "\n",
        "i. A matrix could consist of rows of SNPs and columns of each gene and a set of 0s/1s or True/False within a certain genomic distance of the row-SNP: e.g. row 1 corresponds to SNP 1 and has \"True\" in each column within a million bp from  SNP1; similarly there could be some kind of distance metric where closer genes have smaller values and further genes have larger values.\n",
        "\n",
        "ii. Cis- and trans-eQTLs have different strengths of gene regulation, thus it may useful to control for the distance from the gene influenced, so that trans-eQTLs are not by design excluded from consideration. Similarly, closer genes should meet a higher threshold of effect, due to proximity.\n",
        "\n",
        "Source 2: Housekeeping gene expression\n",
        "\n",
        "i. This matrix could consist of rows of housekeeping genes and columns of expression data per patient. \n",
        "\n",
        "ii. These genes would be filtered from the exp_trait data table. The average variance would also be used to eliminate genes, since any variance in gene expression under the variance of housekeeping genes does not display a significant change."
      ]
    }
  ]
}